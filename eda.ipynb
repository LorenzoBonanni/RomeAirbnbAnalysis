{
 "cells": [
  {
   "cell_type": "code",
   "execution_count": null,
   "metadata": {},
   "outputs": [],
   "source": [
    "import pandas as pd\n",
    "import numpy as np\n",
    "import matplotlib.pyplot as plt\n",
    "import seaborn as sns\n",
    "from sklearn.preprocessing import LabelEncoder"
   ]
  },
  {
   "cell_type": "code",
   "execution_count": null,
   "metadata": {},
   "outputs": [],
   "source": [
    "df = pd.read_csv(filepath_or_buffer='rome_listings_cleaned.csv')\n",
    "# Convert boolean columns into int\n",
    "bool_columns = [c for c in df.columns if df[c].dtype == 'bool']\n",
    "df[bool_columns] = df[bool_columns].astype(int)"
   ]
  },
  {
   "cell_type": "code",
   "execution_count": null,
   "metadata": {},
   "outputs": [],
   "source": [
    "df.columns"
   ]
  },
  {
   "cell_type": "code",
   "execution_count": null,
   "metadata": {},
   "outputs": [],
   "source": [
    "# Create an instance of LabelEncoder\n",
    "label_encoder_1 = LabelEncoder()\n",
    "label_encoder_2 = LabelEncoder()\n",
    "label_encoder_3 = LabelEncoder()\n",
    "\n",
    "\n",
    "\n",
    "# Fit and transform the neighborhood column\n",
    "df['neighbourhood_cleansed'] = label_encoder_1.fit_transform(df['neighbourhood_cleansed'])\n",
    "df['room_type'] = label_encoder_2.fit_transform(df['room_type'])\n",
    "df['property_type'] = label_encoder_3.fit_transform(df['property_type'])\n"
   ]
  },
  {
   "cell_type": "code",
   "execution_count": null,
   "metadata": {},
   "outputs": [],
   "source": [
    "# Iterate over each column in the dataframe\n",
    "for column in df.columns:\n",
    "    plt.figure()\n",
    "    # Create scatter plot\n",
    "    plt.scatter(df[column], df['price'])\n",
    "    plt.xlabel(column)\n",
    "    plt.ylabel('price')\n",
    "    plt.title(f'Scatter plot of {column} vs price')\n",
    "    \n",
    "    plt.figure()\n",
    "    df[column].hist()\n",
    "    plt.xlabel('Value')\n",
    "    plt.ylabel('Frequency')\n",
    "    plt.title(f'Histogram of {column}')\n",
    "    plt.show()"
   ]
  },
  {
   "cell_type": "code",
   "execution_count": null,
   "metadata": {},
   "outputs": [],
   "source": [
    "# Iterate over each column in the dataframe\n",
    "for column in df.columns:\n",
    "    plt.figure()\n",
    "    # Create scatter plot\n",
    "    plt.scatter(df[column], np.log(df['price']))\n",
    "    plt.xlabel(column)\n",
    "    plt.ylabel('price')\n",
    "    plt.title(f'Scatter plot of {column} vs log price')\n",
    "    \n",
    "    plt.figure()\n",
    "    df[column].hist()\n",
    "    plt.xlabel('Value')\n",
    "    plt.ylabel('Frequency')\n",
    "    plt.title(f'Histogram of {column}')\n",
    "    plt.show()"
   ]
  },
  {
   "cell_type": "code",
   "execution_count": null,
   "metadata": {},
   "outputs": [],
   "source": [
    "to_drop = ['host_is_superhost', 'number_of_reviews_ltm', 'number_of_reviews_l30d', 'review_scores_accuracy', 'review_scores_cleanliness', 'review_scores_checkin', \n",
    "           'review_scores_communication','review_scores_location', 'review_scores_value', 'reviews_per_month']\n",
    "df.drop(columns=to_drop, inplace=True)"
   ]
  },
  {
   "cell_type": "code",
   "execution_count": null,
   "metadata": {},
   "outputs": [],
   "source": [
    "df['logprice'] = np.log(df['price'])\n",
    "plt.figure()\n",
    "df['price'].hist()\n",
    "plt.title('Distribution of price')"
   ]
  },
  {
   "cell_type": "code",
   "execution_count": null,
   "metadata": {},
   "outputs": [],
   "source": [
    "df['logprice'].hist()\n",
    "plt.title('Distribution of logprice')"
   ]
  },
  {
   "cell_type": "code",
   "execution_count": null,
   "metadata": {},
   "outputs": [],
   "source": [
    "plt.figure(figsize=(10, 8))\n",
    "sns.heatmap(df.corr(), annot=True, cmap='coolwarm')\n",
    "plt.show()"
   ]
  },
  {
   "cell_type": "code",
   "execution_count": null,
   "metadata": {},
   "outputs": [],
   "source": [
    "# Calculate the correlation matrix\n",
    "correlation_matrix = df.corr()\n",
    "\n",
    "# Get the correlation of each feature with price\n",
    "correlation_with_price = correlation_matrix['logprice']\n",
    "\n",
    "# Sort the correlation values in descending order\n",
    "sorted_correlation = correlation_with_price.sort_values(ascending=False)\n",
    "\n",
    "# Get the features and their correlation with price\n",
    "features = sorted_correlation.index.tolist()\n",
    "\n",
    "# Print the features and their correlation with price\n",
    "print(features)"
   ]
  },
  {
   "cell_type": "code",
   "execution_count": null,
   "metadata": {},
   "outputs": [],
   "source": [
    "df.columns"
   ]
  },
  {
   "cell_type": "code",
   "execution_count": null,
   "metadata": {},
   "outputs": [],
   "source": [
    "import folium.plugins\n",
    "import io\n",
    "from PIL import Image\n",
    "\n",
    "# Create a map centered around the mean latitude and longitude\n",
    "map_heat = folium.Map(location=[df['latitude'].mean(), df['longitude'].mean()], zoom_start=11)\n",
    "\n",
    "# Create a HeatMap layer using latitude, longitude, and price\n",
    "heat_data = [[row['latitude'], row['longitude'], row['price']] for index, row in df.iterrows()]\n",
    "heat_map = folium.plugins.HeatMap(heat_data)\n",
    "map_heat.add_child(heat_map)\n",
    "\n",
    "# Display the map\n",
    "map_heat.save('heatmap.html')\n",
    "\n",
    "img_data = map_heat._to_png(5)\n",
    "img = Image.open(io.BytesIO(img_data))\n",
    "img.save('image.png')\n",
    "\n"
   ]
  },
  {
   "cell_type": "code",
   "execution_count": null,
   "metadata": {},
   "outputs": [],
   "source": [
    "df = pd.read_csv(filepath_or_buffer='rome_listings_cleaned.csv')\n",
    "df['logprice'] = np.log(df['price'])\n",
    "df.drop(columns=['host_is_superhost','latitude', 'review_scores_rating', 'number_of_reviews', 'number_of_reviews_ltm', 'number_of_reviews_l30d', 'review_scores_accuracy',\n",
    "       'review_scores_cleanliness', 'review_scores_checkin', 'review_scores_communication', 'review_scores_location','review_scores_value', 'reviews_per_month', 'price'], inplace=True)\n",
    "df.to_csv('rome_listings_aftereda.csv', index=False)"
   ]
  }
 ],
 "metadata": {
  "kernelspec": {
   "display_name": ".venv",
   "language": "python",
   "name": "python3"
  },
  "language_info": {
   "codemirror_mode": {
    "name": "ipython",
    "version": 3
   },
   "file_extension": ".py",
   "mimetype": "text/x-python",
   "name": "python",
   "nbconvert_exporter": "python",
   "pygments_lexer": "ipython3",
   "version": "3.10.12"
  }
 },
 "nbformat": 4,
 "nbformat_minor": 2
}
