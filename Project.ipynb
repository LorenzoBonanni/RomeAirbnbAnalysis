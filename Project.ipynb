{
 "cells": [
  {
   "cell_type": "code",
   "execution_count": 2,
   "metadata": {},
   "outputs": [],
   "source": [
    "import pandas as pd\n",
    "import numpy as np\n",
    "import matplotlib.pyplot as plt\n",
    "import seaborn as sns\n"
   ]
  },
  {
   "cell_type": "code",
   "execution_count": 5,
   "metadata": {},
   "outputs": [],
   "source": [
    "df = pd.read_csv('rome_listing.csv')"
   ]
  },
  {
   "cell_type": "code",
   "execution_count": 6,
   "metadata": {},
   "outputs": [
    {
     "data": {
      "text/plain": [
       "Index(['id', 'listing_url', 'scrape_id', 'last_scraped', 'source', 'name',\n",
       "       'description', 'neighborhood_overview', 'picture_url', 'host_id',\n",
       "       'host_url', 'host_name', 'host_since', 'host_location', 'host_about',\n",
       "       'host_response_time', 'host_response_rate', 'host_acceptance_rate',\n",
       "       'host_is_superhost', 'host_thumbnail_url', 'host_picture_url',\n",
       "       'host_neighbourhood', 'host_listings_count',\n",
       "       'host_total_listings_count', 'host_verifications',\n",
       "       'host_has_profile_pic', 'host_identity_verified', 'neighbourhood',\n",
       "       'neighbourhood_cleansed', 'neighbourhood_group_cleansed', 'latitude',\n",
       "       'longitude', 'property_type', 'room_type', 'accommodates', 'bathrooms',\n",
       "       'bathrooms_text', 'bedrooms', 'beds', 'amenities', 'price',\n",
       "       'minimum_nights', 'maximum_nights', 'minimum_minimum_nights',\n",
       "       'maximum_minimum_nights', 'minimum_maximum_nights',\n",
       "       'maximum_maximum_nights', 'minimum_nights_avg_ntm',\n",
       "       'maximum_nights_avg_ntm', 'calendar_updated', 'has_availability',\n",
       "       'availability_30', 'availability_60', 'availability_90',\n",
       "       'availability_365', 'calendar_last_scraped', 'number_of_reviews',\n",
       "       'number_of_reviews_ltm', 'number_of_reviews_l30d', 'first_review',\n",
       "       'last_review', 'review_scores_rating', 'review_scores_accuracy',\n",
       "       'review_scores_cleanliness', 'review_scores_checkin',\n",
       "       'review_scores_communication', 'review_scores_location',\n",
       "       'review_scores_value', 'license', 'instant_bookable',\n",
       "       'calculated_host_listings_count',\n",
       "       'calculated_host_listings_count_entire_homes',\n",
       "       'calculated_host_listings_count_private_rooms',\n",
       "       'calculated_host_listings_count_shared_rooms', 'reviews_per_month'],\n",
       "      dtype='object')"
      ]
     },
     "execution_count": 6,
     "metadata": {},
     "output_type": "execute_result"
    }
   ],
   "source": [
    "df.columns"
   ]
  },
  {
   "cell_type": "code",
   "execution_count": 11,
   "metadata": {},
   "outputs": [
    {
     "name": "stdout",
     "output_type": "stream",
     "text": [
      "<class 'pandas.core.frame.DataFrame'>\n",
      "RangeIndex: 30318 entries, 0 to 30317\n",
      "Data columns (total 75 columns):\n",
      " #   Column                                        Non-Null Count  Dtype  \n",
      "---  ------                                        --------------  -----  \n",
      " 0   id                                            30318 non-null  int64  \n",
      " 1   listing_url                                   30318 non-null  object \n",
      " 2   scrape_id                                     30318 non-null  int64  \n",
      " 3   last_scraped                                  30318 non-null  object \n",
      " 4   source                                        30318 non-null  object \n",
      " 5   name                                          30318 non-null  object \n",
      " 6   description                                   29421 non-null  object \n",
      " 7   neighborhood_overview                         17802 non-null  object \n",
      " 8   picture_url                                   30318 non-null  object \n",
      " 9   host_id                                       30318 non-null  int64  \n",
      " 10  host_url                                      30318 non-null  object \n",
      " 11  host_name                                     30318 non-null  object \n",
      " 12  host_since                                    30318 non-null  object \n",
      " 13  host_location                                 23303 non-null  object \n",
      " 14  host_about                                    15011 non-null  object \n",
      " 15  host_response_time                            25543 non-null  object \n",
      " 16  host_response_rate                            25543 non-null  object \n",
      " 17  host_acceptance_rate                          27425 non-null  object \n",
      " 18  host_is_superhost                             30191 non-null  object \n",
      " 19  host_thumbnail_url                            30318 non-null  object \n",
      " 20  host_picture_url                              30318 non-null  object \n",
      " 21  host_neighbourhood                            13499 non-null  object \n",
      " 22  host_listings_count                           30318 non-null  int64  \n",
      " 23  host_total_listings_count                     30318 non-null  int64  \n",
      " 24  host_verifications                            30318 non-null  object \n",
      " 25  host_has_profile_pic                          30318 non-null  object \n",
      " 26  host_identity_verified                        30318 non-null  object \n",
      " 27  neighbourhood                                 17802 non-null  object \n",
      " 28  neighbourhood_cleansed                        30318 non-null  object \n",
      " 29  neighbourhood_group_cleansed                  0 non-null      float64\n",
      " 30  latitude                                      30318 non-null  float64\n",
      " 31  longitude                                     30318 non-null  float64\n",
      " 32  property_type                                 30318 non-null  object \n",
      " 33  room_type                                     30318 non-null  object \n",
      " 34  accommodates                                  30318 non-null  int64  \n",
      " 35  bathrooms                                     26724 non-null  float64\n",
      " 36  bathrooms_text                                30273 non-null  object \n",
      " 37  bedrooms                                      29305 non-null  float64\n",
      " 38  beds                                          26649 non-null  float64\n",
      " 39  amenities                                     30318 non-null  object \n",
      " 40  price                                         26683 non-null  object \n",
      " 41  minimum_nights                                30318 non-null  int64  \n",
      " 42  maximum_nights                                30318 non-null  int64  \n",
      " 43  minimum_minimum_nights                        30318 non-null  int64  \n",
      " 44  maximum_minimum_nights                        30318 non-null  int64  \n",
      " 45  minimum_maximum_nights                        30318 non-null  int64  \n",
      " 46  maximum_maximum_nights                        30318 non-null  int64  \n",
      " 47  minimum_nights_avg_ntm                        30318 non-null  float64\n",
      " 48  maximum_nights_avg_ntm                        30318 non-null  float64\n",
      " 49  calendar_updated                              0 non-null      float64\n",
      " 50  has_availability                              29796 non-null  object \n",
      " 51  availability_30                               30318 non-null  int64  \n",
      " 52  availability_60                               30318 non-null  int64  \n",
      " 53  availability_90                               30318 non-null  int64  \n",
      " 54  availability_365                              30318 non-null  int64  \n",
      " 55  calendar_last_scraped                         30318 non-null  object \n",
      " 56  number_of_reviews                             30318 non-null  int64  \n",
      " 57  number_of_reviews_ltm                         30318 non-null  int64  \n",
      " 58  number_of_reviews_l30d                        30318 non-null  int64  \n",
      " 59  first_review                                  25394 non-null  object \n",
      " 60  last_review                                   25394 non-null  object \n",
      " 61  review_scores_rating                          25394 non-null  float64\n",
      " 62  review_scores_accuracy                        25368 non-null  float64\n",
      " 63  review_scores_cleanliness                     25369 non-null  float64\n",
      " 64  review_scores_checkin                         25368 non-null  float64\n",
      " 65  review_scores_communication                   25369 non-null  float64\n",
      " 66  review_scores_location                        25366 non-null  float64\n",
      " 67  review_scores_value                           25367 non-null  float64\n",
      " 68  license                                       8415 non-null   object \n",
      " 69  instant_bookable                              30318 non-null  object \n",
      " 70  calculated_host_listings_count                30318 non-null  int64  \n",
      " 71  calculated_host_listings_count_entire_homes   30318 non-null  int64  \n",
      " 72  calculated_host_listings_count_private_rooms  30318 non-null  int64  \n",
      " 73  calculated_host_listings_count_shared_rooms   30318 non-null  int64  \n",
      " 74  reviews_per_month                             25394 non-null  float64\n",
      "dtypes: float64(17), int64(23), object(35)\n",
      "memory usage: 17.3+ MB\n"
     ]
    }
   ],
   "source": [
    "df.info()"
   ]
  },
  {
   "cell_type": "code",
   "execution_count": null,
   "metadata": {},
   "outputs": [],
   "source": []
  }
 ],
 "metadata": {
  "kernelspec": {
   "display_name": "jupyter",
   "language": "python",
   "name": "python3"
  },
  "language_info": {
   "codemirror_mode": {
    "name": "ipython",
    "version": 3
   },
   "file_extension": ".py",
   "mimetype": "text/x-python",
   "name": "python",
   "nbconvert_exporter": "python",
   "pygments_lexer": "ipython3",
   "version": "3.10.12"
  }
 },
 "nbformat": 4,
 "nbformat_minor": 2
}
