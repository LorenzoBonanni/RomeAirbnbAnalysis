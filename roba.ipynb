{
 "cells": [
  {
   "cell_type": "code",
   "execution_count": null,
   "metadata": {},
   "outputs": [],
   "source": [
    "# HeatMap of Frequency of Listings\n",
    "import folium\n",
    "from folium.plugins import HeatMap, MarkerCluster\n",
    "\n",
    "m = folium.Map(location=[41.9028, 12.4964], zoom_start=12)\n",
    "\n",
    "heat_df = df[['latitude', 'longitude']]\n",
    "heat_df = heat_df.dropna(axis=0, subset=['latitude', 'longitude'])\n",
    "heat_data = [[row['latitude'], row['longitude']] for index, row in heat_df.iterrows()]\n",
    "\n",
    "HeatMap(data=heat_data, radius=8, max_zoom=13).add_to(m)\n",
    "\n",
    "m.save('out/heatmap.html')"
   ]
  },
  {
   "cell_type": "code",
   "execution_count": null,
   "metadata": {},
   "outputs": [],
   "source": [
    "import folium\n",
    "from folium.plugins import MarkerCluster\n",
    "import numpy as np\n",
    "\n",
    "def create_marker_cluster_map(df):\n",
    "    \"\"\"\n",
    "    Creates a marker cluster map using Folium library.\n",
    "\n",
    "    Parameters:\n",
    "    - df: pandas DataFrame\n",
    "        The DataFrame containing latitude, longitude, and room type information.\n",
    "\n",
    "    Returns:\n",
    "    - m: folium.Map\n",
    "        The marker cluster map.\n",
    "\n",
    "    Example usage:\n",
    "    >>> df = pd.DataFrame({'latitude': [41.9028, 41.8919, 41.8955],\n",
    "                           'longitude': [12.4964, 12.5113, 12.4823],\n",
    "                           'room_type': ['Entire home/apt', 'Private room', 'Shared room']})\n",
    "    >>> create_marker_cluster_map(df)\n",
    "    \"\"\"\n",
    "\n",
    "    # Create a folium map centered at a specific location\n",
    "    m = folium.Map(location=[41.9028, 12.4964], zoom_start=12)\n",
    "\n",
    "    # Create a marker cluster\n",
    "    mc = MarkerCluster()\n",
    "\n",
    "    # Create feature groups for different room types\n",
    "    feature_group = {\n",
    "        'Entire home/apt': folium.FeatureGroup(name='Entire home/apt'),\n",
    "        'Private room': folium.FeatureGroup(name='Private room'),\n",
    "        'Shared room': folium.FeatureGroup(name='Shared room'),\n",
    "        'Hotel room': folium.FeatureGroup(name='Hotel room')\n",
    "    }\n",
    "\n",
    "    # Add markers to the marker cluster based on latitude, longitude, and room type\n",
    "    for idx, row in df.iterrows():\n",
    "        if not np.isnan(row['latitude']) and not np.isnan(row['longitude']):\n",
    "            folium.CircleMarker(location=[row['latitude'], row['longitude']]).add_to(feature_group[row['room_type']])\n",
    "\n",
    "    # Add the marker cluster to the map\n",
    "    m.add_child(mc)\n",
    "\n",
    "    # Add feature groups to the map\n",
    "    for key in feature_group:\n",
    "        feature_group[key].add_to(m)\n",
    "\n",
    "    # Add layer control to the map\n",
    "    folium.LayerControl(collapsed=False).add_to(m)\n",
    "\n",
    "    return m\n",
    "\n",
    "# Save the marker cluster map as an HTML file\n",
    "create_marker_cluster_map(df).save('out/markercluster.html')\n"
   ]
  },
  {
   "cell_type": "code",
   "execution_count": null,
   "metadata": {},
   "outputs": [],
   "source": [
    "## One Hot encoding for room_type\n",
    "df = pd.get_dummies(df, columns=['room_type'], prefix='room_type')"
   ]
  },
  {
   "cell_type": "code",
   "execution_count": null,
   "metadata": {},
   "outputs": [],
   "source": [
    "# One Hot encoding for neighbourhood_cleansed\n",
    "df = pd.get_dummies(df, columns=['neighbourhood_cleansed'], prefix='neighbourhood')"
   ]
  },
  {
   "cell_type": "code",
   "execution_count": null,
   "metadata": {},
   "outputs": [],
   "source": [
    "from category_encoders import BinaryEncoder\n",
    "\n",
    "binary_encoder = BinaryEncoder()\n",
    "binary_encoder.fit_transform(df['property_type'])\n",
    "# Create a DataFrame with the new columns\n",
    "new_columns = pd.DataFrame(binary_encoder.transform(df['property_type']), columns=binary_encoder.get_feature_names_out())\n",
    "\n",
    "# Concatenate the new columns with the original dataset\n",
    "df = pd.concat([df, new_columns], axis=1)\n",
    "df.drop(columns=['property_type'], inplace=True)"
   ]
  }
 ],
 "metadata": {
  "language_info": {
   "name": "python"
  }
 },
 "nbformat": 4,
 "nbformat_minor": 2
}
