{
  "cells": [
    {
      "cell_type": "code",
      "execution_count": null,
      "metadata": {
        "colab": {
          "base_uri": "https://localhost:8080/"
        },
        "id": "EeT8nL65lW3V",
        "outputId": "d48cb492-cd66-4df0-cf8f-032cab7345dc"
      },
      "outputs": [],
      "source": [
        "! pip install category_encoders"
      ]
    },
    {
      "cell_type": "code",
      "execution_count": null,
      "metadata": {
        "id": "8TWOpl-fqNcP"
      },
      "outputs": [],
      "source": [
        "import numpy as np\n",
        "import pandas as pd\n",
        "import matplotlib.pyplot as plt\n",
        "import xgboost as xgb\n",
        "from sklearn.model_selection import train_test_split, GridSearchCV, KFold\n",
        "from sklearn.preprocessing import StandardScaler\n",
        "from sklearn.decomposition import PCA\n",
        "from sklearn.linear_model import LinearRegression, Ridge, Lasso\n",
        "from sklearn.metrics import make_scorer, mean_squared_error, r2_score\n",
        "from sklearn.ensemble import RandomForestRegressor\n",
        "from sklearn.tree import DecisionTreeRegressor\n",
        "from category_encoders import BinaryEncoder\n",
        "from sklearn.dummy import DummyRegressor"
      ]
    },
    {
      "cell_type": "code",
      "execution_count": null,
      "metadata": {
        "id": "_jSrGRFwqNcV"
      },
      "outputs": [],
      "source": [
        "df = pd.read_csv(filepath_or_buffer='rome_listings_aftereda.csv')"
      ]
    },
    {
      "cell_type": "code",
      "execution_count": null,
      "metadata": {
        "colab": {
          "base_uri": "https://localhost:8080/"
        },
        "id": "U6q7m5CPlEEg",
        "outputId": "9009d0f4-037c-4ff8-b977-d31791c40c4d"
      },
      "outputs": [],
      "source": [
        "df.shape"
      ]
    },
    {
      "cell_type": "code",
      "execution_count": null,
      "metadata": {
        "colab": {
          "base_uri": "https://localhost:8080/"
        },
        "id": "gHV5zaQjlEEg",
        "outputId": "5555e3a9-ee11-45ab-f18b-71872addec21"
      },
      "outputs": [],
      "source": [
        "df.columns"
      ]
    },
    {
      "cell_type": "code",
      "execution_count": null,
      "metadata": {
        "id": "wCNosG4vqNcW"
      },
      "outputs": [],
      "source": [
        "## One Hot encoding for room_type\n",
        "df = pd.get_dummies(df, columns=['room_type'], prefix='room_type')\n",
        "df = pd.get_dummies(df, columns=['neighbourhood_cleansed'], prefix='neighbourhood')"
      ]
    },
    {
      "cell_type": "code",
      "execution_count": null,
      "metadata": {},
      "outputs": [],
      "source": []
    },
    {
      "cell_type": "code",
      "execution_count": null,
      "metadata": {
        "id": "jtLurcPoqNcc"
      },
      "outputs": [],
      "source": [
        "## convert boolean columns to int\n",
        "bool_cols = df.columns[df.dtypes == 'bool']\n",
        "df[bool_cols] = df[bool_cols].astype(int)"
      ]
    },
    {
      "cell_type": "code",
      "execution_count": null,
      "metadata": {
        "id": "1fqDDvupqNcc"
      },
      "outputs": [],
      "source": [
        "binary_encoder = BinaryEncoder()\n",
        "binary_encoder.fit_transform(df['property_type'])\n",
        "# Create a DataFrame with the new columns\n",
        "new_columns = pd.DataFrame(binary_encoder.transform(df['property_type']), columns=binary_encoder.get_feature_names_out())\n",
        "\n",
        "# Concatenate the new columns with the original dataset\n",
        "df = pd.concat([df, new_columns], axis=1)\n",
        "df.drop(columns=['property_type'], inplace=True)"
      ]
    },
    {
      "cell_type": "code",
      "execution_count": null,
      "metadata": {
        "id": "_EO01OgzqNcd"
      },
      "outputs": [],
      "source": [
        "price = df.pop('logprice')"
      ]
    },
    {
      "cell_type": "code",
      "execution_count": null,
      "metadata": {},
      "outputs": [],
      "source": [
        "price.hist()"
      ]
    },
    {
      "cell_type": "code",
      "execution_count": null,
      "metadata": {
        "colab": {
          "base_uri": "https://localhost:8080/"
        },
        "id": "Ag8RcUsiqNcj",
        "outputId": "cac73748-32a1-4021-9b8e-f5da3a1ad2c6"
      },
      "outputs": [],
      "source": [
        "df.columns"
      ]
    },
    {
      "cell_type": "code",
      "execution_count": null,
      "metadata": {
        "id": "VwK34L6JqNcm"
      },
      "outputs": [],
      "source": [
        "X_train, X_test, y_train, y_test = train_test_split(df, price, test_size=0.3, random_state=42, shuffle=True)"
      ]
    },
    {
      "cell_type": "code",
      "execution_count": null,
      "metadata": {
        "id": "FYCMDYzswb3U"
      },
      "outputs": [],
      "source": [
        "columns_to_standardize = ['accommodates', 'bathrooms', 'bedrooms', 'beds']\n",
        "scaler = StandardScaler()\n",
        "X_train[columns_to_standardize] = scaler.fit_transform(X_train[columns_to_standardize])\n",
        "X_test[columns_to_standardize] = scaler.transform(X_test[columns_to_standardize])"
      ]
    },
    {
      "cell_type": "code",
      "execution_count": null,
      "metadata": {
        "colab": {
          "base_uri": "https://localhost:8080/",
          "height": 834
        },
        "id": "dXk_cBfXALJN",
        "outputId": "1e4464a9-46f4-4df1-9a2b-9fe3b0d378e3"
      },
      "outputs": [],
      "source": [
        "# Step 3: Perform PCA\n",
        "threshold = 0.95\n",
        "pca = PCA().fit(X_train)\n",
        "\n",
        "# Step 4: Calculate explained variance\n",
        "cumulative_variance = np.cumsum(pca.explained_variance_ratio_)\n",
        "\n",
        "# Step 5: Plot the cumulative explained variance\n",
        "plt.figure(figsize=(10, 5))\n",
        "plt.plot(range(1, len(cumulative_variance) + 1), cumulative_variance, marker='o', linestyle='--')\n",
        "plt.axhline(y=threshold, color='r', linestyle='-')\n",
        "n_components = np.argmax(cumulative_variance >= threshold) + 1\n",
        "plt.axvline(x=n_components, color='b', linestyle='--')\n",
        "\n",
        "# Annotations\n",
        "plt.annotate(f'{n_components} Components',\n",
        "             xy=(n_components, threshold),\n",
        "             xytext=(n_components + 2, threshold - 0.1),\n",
        "             arrowprops=dict(facecolor='black', arrowstyle='->'),\n",
        "             fontsize=10)\n",
        "plt.text(n_components, 0.02, f'{n_components}', color='blue', ha='center', fontsize=12)\n",
        "plt.scatter(n_components, threshold, color='red', zorder=5)\n",
        "\n",
        "# Labels and title\n",
        "plt.title('Cumulative Explained Variance')\n",
        "plt.xlabel('Number of Components')\n",
        "plt.ylabel('Cumulative Explained Variance')\n",
        "plt.grid()\n",
        "plt.show()\n",
        "\n",
        "print(f\"Number of components chosen: {n_components}\")"
      ]
    },
    {
      "cell_type": "code",
      "execution_count": null,
      "metadata": {
        "id": "ySit9LazqNcv"
      },
      "outputs": [],
      "source": [
        "pca = PCA(n_components=n_components)\n",
        "X_train_transform = pca.fit_transform(X_train)\n",
        "X_test_transform = pca.transform(X_test)"
      ]
    },
    {
      "cell_type": "code",
      "execution_count": null,
      "metadata": {
        "colab": {
          "base_uri": "https://localhost:8080/"
        },
        "id": "ufyWxQ0_nS4S",
        "outputId": "76718b1f-5b84-4ed7-bef9-2be92d9cd741"
      },
      "outputs": [],
      "source": [
        "X_train_transform.shape"
      ]
    },
    {
      "cell_type": "code",
      "execution_count": null,
      "metadata": {
        "colab": {
          "base_uri": "https://localhost:8080/"
        },
        "id": "JMR6OJF-qNcv",
        "outputId": "a9a5754a-e445-4f05-f3b1-a7c00d23f19b"
      },
      "outputs": [],
      "source": [
        "# Linear Regression\n",
        "param_grid = {}\n",
        "scoring = make_scorer(mean_squared_error, greater_is_better=False)\n",
        "model = LinearRegression()\n",
        "grid_search_linreg = GridSearchCV(\n",
        "    estimator=model,\n",
        "    param_grid=param_grid,\n",
        "    scoring=scoring,\n",
        "    cv=KFold(5, random_state=2, shuffle=True),\n",
        "    n_jobs=-1\n",
        ")\n",
        "grid_search_linreg.fit(X_train_transform, y_train)\n",
        "# print(\"Best parameters found: \", grid_search_linreg.best_params_)\n",
        "print(\"Best mean squared error: \", -grid_search_linreg.best_score_)"
      ]
    },
    {
      "cell_type": "code",
      "execution_count": null,
      "metadata": {
        "colab": {
          "base_uri": "https://localhost:8080/"
        },
        "id": "HZYyqNtD7m7t",
        "outputId": "b568a3d6-ae1b-451b-d201-15c9a66cd7e8"
      },
      "outputs": [],
      "source": [
        "# Ridge Regression\n",
        "alphas = np.logspace(-6, 6, 100, base=10)\n",
        "param_grid = {'alpha': alphas}\n",
        "scoring = make_scorer(mean_squared_error, greater_is_better=False)\n",
        "model = Ridge()\n",
        "grid_search_ridge = GridSearchCV(\n",
        "    estimator=model,\n",
        "    param_grid=param_grid,\n",
        "    scoring=scoring,\n",
        "    cv=KFold(5, random_state=2, shuffle=True),\n",
        "    n_jobs=-1\n",
        ")\n",
        "grid_search_ridge.fit(X_train, y_train)\n",
        "print(\"Best parameters found: \", grid_search_ridge.best_params_)\n",
        "print(\"Best mean squared error: \", -grid_search_ridge.best_score_)\n"
      ]
    },
    {
      "cell_type": "code",
      "execution_count": null,
      "metadata": {
        "colab": {
          "base_uri": "https://localhost:8080/"
        },
        "id": "SMh5EbljBcMf",
        "outputId": "753f0001-dad7-4274-8469-6ed45823b498"
      },
      "outputs": [],
      "source": [
        "# Lasso\n",
        "alphas = np.logspace(-6, 6, 100, base=10)\n",
        "param_grid = {'alpha': alphas}\n",
        "model = Lasso()\n",
        "grid_search_lasso = GridSearchCV(\n",
        "    estimator=model,\n",
        "    param_grid=param_grid,\n",
        "    scoring=scoring,\n",
        "    cv=KFold(5, random_state=2, shuffle=True),\n",
        "    n_jobs=-1\n",
        ")\n",
        "grid_search_lasso.fit(X_train, y_train)\n",
        "print(\"Best parameters found: \", grid_search_lasso.best_params_)\n",
        "print(\"Best mean squared error: \", -grid_search_lasso.best_score_)"
      ]
    },
    {
      "cell_type": "code",
      "execution_count": null,
      "metadata": {
        "colab": {
          "base_uri": "https://localhost:8080/"
        },
        "id": "kvkIk6-xlEEl",
        "outputId": "2fa3cf97-03f5-4061-e396-5621f8da382a"
      },
      "outputs": [],
      "source": [
        "# Decision Tree\n",
        "param_grid = param_grid = {\n",
        "    'splitter': ['best', 'random'],\n",
        "    'max_depth': [None, 5, 10, 15, 20],\n",
        "    'min_samples_split': [2, 5, 10],\n",
        "    'min_samples_leaf': [1, 2, 4],\n",
        "    'max_features': [None, 'sqrt', 'log2'],\n",
        "    'min_impurity_decrease': [0.0, 0.1, 0.2],\n",
        "    'ccp_alpha': [0.0, 0.1, 0.2],\n",
        "    'random_state': [2]  # Adjust this according to your needs\n",
        "}\n",
        "model = DecisionTreeRegressor()\n",
        "grid_search_dt = GridSearchCV(\n",
        "    estimator=model,\n",
        "    param_grid=param_grid,\n",
        "    scoring=scoring,\n",
        "    cv=KFold(5, random_state=2, shuffle=True),\n",
        "    n_jobs=-1,\n",
        "    verbose=1\n",
        ")\n",
        "grid_search_dt.fit(X_train, y_train)\n",
        "print(\"Best parameters found: \", grid_search_dt.best_params_)\n",
        "print(\"Best mean squared error: \", -grid_search_dt.best_score_)"
      ]
    },
    {
      "cell_type": "code",
      "execution_count": null,
      "metadata": {
        "colab": {
          "base_uri": "https://localhost:8080/",
          "height": 373
        },
        "id": "O0Ac2J6TFRk2",
        "outputId": "fc560078-7f30-4a11-fc86-16506f200e0f"
      },
      "outputs": [],
      "source": [
        "# Random Forest\n",
        "param_grid = param_grid = {\n",
        "    'n_estimators': [100, 200, 300],\n",
        "    'max_features': ['sqrt', 'log2'],\n",
        "    'max_depth': [10, 20, 30, None],\n",
        "    'min_samples_split': [2, 5, 10],\n",
        "    'min_samples_leaf': [1, 2, 4],\n",
        "    'bootstrap': [True, False]\n",
        "}\n",
        "model = RandomForestRegressor()\n",
        "grid_search_rf = GridSearchCV(\n",
        "    estimator=model,\n",
        "    param_grid=param_grid,\n",
        "    scoring=scoring,\n",
        "    cv=KFold(5, random_state=2, shuffle=True),\n",
        "    n_jobs=-1,\n",
        "    verbose=1\n",
        ")\n",
        "grid_search_rf.fit(X_train, y_train)\n",
        "print(\"Best parameters found: \", grid_search_rf.best_params_)\n",
        "print(\"Best mean squared error: \", -grid_search_rf.best_score_)"
      ]
    },
    {
      "cell_type": "code",
      "execution_count": null,
      "metadata": {
        "id": "GYHbeoxylEEl"
      },
      "outputs": [],
      "source": [
        "# XGBoost\n",
        "param_grid = param_grid = {\n",
        "    'n_estimators': [100, 200, 300],\n",
        "    'learning_rate': [0.01, 0.1, 0.2],\n",
        "}\n",
        "model = xgb.XGBRegressor(random_state=2)\n",
        "grid_search_xgb = GridSearchCV(\n",
        "    estimator=model,\n",
        "    param_grid=param_grid,\n",
        "    scoring=scoring,\n",
        "    cv=KFold(5, random_state=2, shuffle=True),\n",
        "    n_jobs=-1\n",
        ")\n",
        "grid_search_xgb.fit(X_train, y_train)\n",
        "print(\"Best parameters found: \", grid_search_xgb.best_params_)\n",
        "print(\"Best mean squared error: \", -grid_search_xgb.best_score_)"
      ]
    },
    {
      "cell_type": "code",
      "execution_count": null,
      "metadata": {
        "id": "ENUw_s76lEEm"
      },
      "outputs": [],
      "source": [
        "dummy_reg_mean = DummyRegressor(strategy='mean')\n",
        "dummy_reg_mean.fit(X_train, y_train)"
      ]
    },
    {
      "cell_type": "code",
      "execution_count": null,
      "metadata": {
        "id": "kIBoo4KolEEm"
      },
      "outputs": [],
      "source": [
        "# Evaluate the best model\n",
        "performance = {}\n",
        "trained = {\n",
        "    'Ridge': grid_search_ridge.best_estimator_,\n",
        "    'Lasso': grid_search_lasso.best_estimator_,\n",
        "    'DecisionTree': grid_search_dt.best_estimator_,\n",
        "    'RandomForest': grid_search_rf.best_estimator_,\n",
        "    'XGBoost': grid_search_xgb.best_estimator_,\n",
        "    'Dummy_mean': dummy_reg_mean\n",
        "}\n",
        "for name, model in trained.items():\n",
        "    predictions = model.predict(X_test)\n",
        "    mse = mean_squared_error(np.exp(y_test), np.exp(predictions))\n",
        "    rmse = np.sqrt(mse)\n",
        "    r_squared = r2_score(np.exp(y_test), np.exp(predictions))\n",
        "    performance[name] = mse\n",
        "    print(f\"{name} mean squared error: {mse}\", f\"root mean squared error: {rmse}\", f\"R^2: {r_squared}\")"
      ]
    },
    {
      "cell_type": "code",
      "execution_count": null,
      "metadata": {
        "id": "yKCG2kYdlEEm"
      },
      "outputs": [],
      "source": [
        "model = grid_search_linreg.best_estimator_\n",
        "name = \"Linear Regression\"\n",
        "X_test_transform = pca.transform(X_test)\n",
        "predictions = model.predict(X_test_transform)\n",
        "mse = mean_squared_error(np.exp(y_test), np.exp(predictions))\n",
        "rmse = np.sqrt(mse)\n",
        "r_squared = r2_score(np.exp(y_test), np.exp(predictions))\n",
        "performance[name] = mse\n",
        "print(f\"{name} mean squared error: {mse}\", f\"root mean squared error: {rmse}\", f\"R^2: {r_squared}\")"
      ]
    },
    {
      "cell_type": "code",
      "execution_count": null,
      "metadata": {
        "id": "m6jKGpqzAoE2"
      },
      "outputs": [],
      "source": [
        "# Table of Results\n",
        "performance = {}\n",
        "trained = {\n",
        "    'Ridge': grid_search_ridge.best_estimator_,\n",
        "    'Lasso': grid_search_lasso.best_estimator_,\n",
        "    'DecisionTree': grid_search_dt.best_estimator_,\n",
        "    'RandomForest': grid_search_rf.best_estimator_,\n",
        "    'XGBoost': grid_search_xgb.best_estimator_,\n",
        "    'Dummy_mean': dummy_reg_mean\n",
        "}\n",
        "\n",
        "# Evaluate performance for each model in 'trained'\n",
        "for name, model in trained.items():\n",
        "    predictions = model.predict(X_test)\n",
        "    mse = mean_squared_error(np.exp(y_test), np.exp(predictions))\n",
        "    rmse = np.sqrt(mse)\n",
        "    r_squared = r2_score(np.exp(y_test), np.exp(predictions))\n",
        "    performance[name] = {'MSE': mse, 'RMSE': rmse, 'R^2': r_squared}\n",
        "    print(f\"{name} mean squared error: {mse}\", f\"root mean squared error: {rmse}\", f\"R^2: {r_squared}\")\n",
        "\n",
        "# Evaluate performance for Linear Regression model separately\n",
        "model = grid_search_linreg.best_estimator_\n",
        "name = \"Linear Regression\"\n",
        "X_test_transform = pca.transform(X_test)\n",
        "predictions = model.predict(X_test_transform)\n",
        "mse = mean_squared_error(np.exp(y_test), np.exp(predictions))\n",
        "rmse = np.sqrt(mse)\n",
        "r_squared = r2_score(np.exp(y_test), np.exp(predictions))\n",
        "performance[name] = {'MSE': mse, 'RMSE': rmse, 'R^2': r_squared}\n",
        "print(f\"{name} mean squared error: {mse}\", f\"root mean squared error: {rmse}\", f\"R^2: {r_squared}\")\n",
        "\n",
        "# Convert the performance dictionary to a DataFrame and display it\n",
        "performance_df = pd.DataFrame(performance).T\n",
        "print(performance_df)"
      ]
    },
    {
      "cell_type": "code",
      "execution_count": null,
      "metadata": {
        "id": "EfynbX45lEEm"
      },
      "outputs": [],
      "source": [
        "# Plotting MSE\n",
        "plt.figure(figsize=(10, 5))\n",
        "plt.bar(performance_df.index, performance_df['MSE'], color='skyblue')\n",
        "plt.xlabel('Model')\n",
        "plt.ylabel('Mean Squared Error (MSE)')\n",
        "plt.title('Mean Squared Error (MSE) by Model')\n",
        "plt.xticks(rotation=45, ha='right')\n",
        "plt.tight_layout()\n",
        "plt.show()"
      ]
    },
    {
      "cell_type": "code",
      "execution_count": null,
      "metadata": {
        "id": "y3IffoCWBoZ5"
      },
      "outputs": [],
      "source": [
        "# Plotting R-squared\n",
        "plt.figure(figsize=(10, 5))\n",
        "plt.bar(performance_df.index, performance_df['R^2'], color='lightgreen')\n",
        "plt.xlabel('Model')\n",
        "plt.ylabel('R-squared (R^2)')\n",
        "plt.title('R-squared (R^2) by Model')\n",
        "plt.xticks(rotation=45, ha='right')\n",
        "plt.tight_layout()\n",
        "plt.show()"
      ]
    },
    {
      "cell_type": "code",
      "execution_count": null,
      "metadata": {
        "id": "ymbgidJ1lEEn"
      },
      "outputs": [],
      "source": [
        "importances = grid_search_rf.best_estimator_.feature_importances_\n",
        "feature_names = X_train.columns\n",
        "\n",
        "# Step 6: Plot the feature importances\n",
        "plt.figure(figsize=(10, 6))\n",
        "plt.barh(feature_names, importances, color='skyblue')\n",
        "plt.xlabel('Feature Importance')\n",
        "plt.ylabel('Feature')\n",
        "plt.title('Feature Importance in RandomForestRegressor')\n",
        "plt.show()\n"
      ]
    },
    {
      "cell_type": "code",
      "execution_count": null,
      "metadata": {
        "id": "13Y-TBNwYCJc"
      },
      "outputs": [],
      "source": [
        "importances = grid_search_rf.best_estimator_.feature_importances_\n",
        "feature_names = X_train.columns\n",
        "\n",
        "# Plot the feature importances\n",
        "plt.figure(figsize=(12, 8))\n",
        "\n",
        "colormap = plt.cm.viridis\n",
        "bars = plt.barh(feature_names, importances, color=colormap(importances))\n",
        "plt.xlabel('Feature Importance', fontsize=14)\n",
        "plt.ylabel('Feature', fontsize=14)\n",
        "plt.title('Feature Importance in RandomForestRegressor', fontsize=16)\n",
        "plt.show()"
      ]
    }
  ],
  "metadata": {
    "colab": {
      "provenance": []
    },
    "kernelspec": {
      "display_name": ".venv",
      "language": "python",
      "name": "python3"
    },
    "language_info": {
      "codemirror_mode": {
        "name": "ipython",
        "version": 3
      },
      "file_extension": ".py",
      "mimetype": "text/x-python",
      "name": "python",
      "nbconvert_exporter": "python",
      "pygments_lexer": "ipython3",
      "version": "3.10.12"
    }
  },
  "nbformat": 4,
  "nbformat_minor": 0
}
