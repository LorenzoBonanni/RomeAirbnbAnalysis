{
  "cells": [
    {
      "cell_type": "code",
      "execution_count": 18,
      "metadata": {
        "id": "8TWOpl-fqNcP"
      },
      "outputs": [],
      "source": [
        "import numpy as np\n",
        "import pandas as pd\n",
        "import matplotlib.pyplot as plt\n",
        "import xgboost as xgb\n",
        "from sklearn.model_selection import train_test_split, GridSearchCV, KFold\n",
        "from sklearn.preprocessing import StandardScaler\n",
        "from sklearn.decomposition import PCA\n",
        "from sklearn.linear_model import LinearRegression, Ridge, Lasso\n",
        "from sklearn.metrics import make_scorer, mean_squared_error, r2_score\n",
        "from sklearn.ensemble import RandomForestRegressor\n",
        "from sklearn.tree import DecisionTreeRegressor\n",
        "from category_encoders import BinaryEncoder\n",
        "from sklearn.dummy import DummyRegressor"
      ]
    },
    {
      "cell_type": "code",
      "execution_count": 19,
      "metadata": {
        "id": "_jSrGRFwqNcV"
      },
      "outputs": [],
      "source": [
        "df = pd.read_csv(filepath_or_buffer='rome_listings_aftereda.csv')"
      ]
    },
    {
      "cell_type": "code",
      "execution_count": 20,
      "metadata": {
        "colab": {
          "base_uri": "https://localhost:8080/"
        },
        "id": "U6q7m5CPlEEg",
        "outputId": "9009d0f4-037c-4ff8-b977-d31791c40c4d"
      },
      "outputs": [
        {
          "data": {
            "text/plain": [
              "Index(['neighbourhood_cleansed', 'latitude', 'longitude', 'property_type',\n",
              "       'room_type', 'accommodates', 'bathrooms', 'bedrooms', 'beds',\n",
              "       'bathrooms_shared', 'logprice'],\n",
              "      dtype='object')"
            ]
          },
          "execution_count": 20,
          "metadata": {},
          "output_type": "execute_result"
        }
      ],
      "source": [
        "df.columns"
      ]
    },
    {
      "cell_type": "code",
      "execution_count": 21,
      "metadata": {
        "id": "wCNosG4vqNcW"
      },
      "outputs": [],
      "source": [
        "## One Hot encoding for room_type\n",
        "df = pd.get_dummies(df, columns=['room_type'], prefix='room_type')\n",
        "df = pd.get_dummies(df, columns=['neighbourhood_cleansed'], prefix='neighbourhood')"
      ]
    },
    {
      "cell_type": "code",
      "execution_count": 22,
      "metadata": {
        "id": "jtLurcPoqNcc"
      },
      "outputs": [],
      "source": [
        "## convert boolean columns to int\n",
        "bool_cols = df.columns[df.dtypes == 'bool']\n",
        "df[bool_cols] = df[bool_cols].astype(int)"
      ]
    },
    {
      "cell_type": "code",
      "execution_count": 23,
      "metadata": {
        "id": "1fqDDvupqNcc"
      },
      "outputs": [],
      "source": [
        "binary_encoder = BinaryEncoder()\n",
        "binary_encoder.fit_transform(df['property_type'])\n",
        "# Create a DataFrame with the new columns\n",
        "new_columns = pd.DataFrame(binary_encoder.transform(df['property_type']), columns=binary_encoder.get_feature_names_out())\n",
        "\n",
        "# Concatenate the new columns with the original dataset\n",
        "df = pd.concat([df, new_columns], axis=1)\n",
        "df.drop(columns=['property_type'], inplace=True)"
      ]
    },
    {
      "cell_type": "code",
      "execution_count": 24,
      "metadata": {},
      "outputs": [
        {
          "data": {
            "text/html": [
              "<div>\n",
              "<style scoped>\n",
              "    .dataframe tbody tr th:only-of-type {\n",
              "        vertical-align: middle;\n",
              "    }\n",
              "\n",
              "    .dataframe tbody tr th {\n",
              "        vertical-align: top;\n",
              "    }\n",
              "\n",
              "    .dataframe thead th {\n",
              "        text-align: right;\n",
              "    }\n",
              "</style>\n",
              "<table border=\"1\" class=\"dataframe\">\n",
              "  <thead>\n",
              "    <tr style=\"text-align: right;\">\n",
              "      <th></th>\n",
              "      <th>property_type_0</th>\n",
              "      <th>property_type_1</th>\n",
              "      <th>property_type_2</th>\n",
              "      <th>property_type_3</th>\n",
              "      <th>property_type_4</th>\n",
              "      <th>property_type_5</th>\n",
              "    </tr>\n",
              "  </thead>\n",
              "  <tbody>\n",
              "    <tr>\n",
              "      <th>0</th>\n",
              "      <td>0</td>\n",
              "      <td>0</td>\n",
              "      <td>0</td>\n",
              "      <td>0</td>\n",
              "      <td>0</td>\n",
              "      <td>1</td>\n",
              "    </tr>\n",
              "    <tr>\n",
              "      <th>1</th>\n",
              "      <td>0</td>\n",
              "      <td>0</td>\n",
              "      <td>0</td>\n",
              "      <td>0</td>\n",
              "      <td>1</td>\n",
              "      <td>0</td>\n",
              "    </tr>\n",
              "    <tr>\n",
              "      <th>2</th>\n",
              "      <td>0</td>\n",
              "      <td>0</td>\n",
              "      <td>0</td>\n",
              "      <td>0</td>\n",
              "      <td>1</td>\n",
              "      <td>1</td>\n",
              "    </tr>\n",
              "    <tr>\n",
              "      <th>3</th>\n",
              "      <td>0</td>\n",
              "      <td>0</td>\n",
              "      <td>0</td>\n",
              "      <td>1</td>\n",
              "      <td>0</td>\n",
              "      <td>0</td>\n",
              "    </tr>\n",
              "    <tr>\n",
              "      <th>4</th>\n",
              "      <td>0</td>\n",
              "      <td>0</td>\n",
              "      <td>0</td>\n",
              "      <td>0</td>\n",
              "      <td>1</td>\n",
              "      <td>1</td>\n",
              "    </tr>\n",
              "    <tr>\n",
              "      <th>...</th>\n",
              "      <td>...</td>\n",
              "      <td>...</td>\n",
              "      <td>...</td>\n",
              "      <td>...</td>\n",
              "      <td>...</td>\n",
              "      <td>...</td>\n",
              "    </tr>\n",
              "    <tr>\n",
              "      <th>22812</th>\n",
              "      <td>0</td>\n",
              "      <td>0</td>\n",
              "      <td>0</td>\n",
              "      <td>0</td>\n",
              "      <td>1</td>\n",
              "      <td>1</td>\n",
              "    </tr>\n",
              "    <tr>\n",
              "      <th>22813</th>\n",
              "      <td>0</td>\n",
              "      <td>0</td>\n",
              "      <td>0</td>\n",
              "      <td>1</td>\n",
              "      <td>0</td>\n",
              "      <td>1</td>\n",
              "    </tr>\n",
              "    <tr>\n",
              "      <th>22814</th>\n",
              "      <td>0</td>\n",
              "      <td>0</td>\n",
              "      <td>0</td>\n",
              "      <td>0</td>\n",
              "      <td>1</td>\n",
              "      <td>1</td>\n",
              "    </tr>\n",
              "    <tr>\n",
              "      <th>22815</th>\n",
              "      <td>0</td>\n",
              "      <td>0</td>\n",
              "      <td>0</td>\n",
              "      <td>0</td>\n",
              "      <td>1</td>\n",
              "      <td>1</td>\n",
              "    </tr>\n",
              "    <tr>\n",
              "      <th>22816</th>\n",
              "      <td>0</td>\n",
              "      <td>0</td>\n",
              "      <td>0</td>\n",
              "      <td>0</td>\n",
              "      <td>1</td>\n",
              "      <td>1</td>\n",
              "    </tr>\n",
              "  </tbody>\n",
              "</table>\n",
              "<p>22817 rows × 6 columns</p>\n",
              "</div>"
            ],
            "text/plain": [
              "       property_type_0  property_type_1  property_type_2  property_type_3  \\\n",
              "0                    0                0                0                0   \n",
              "1                    0                0                0                0   \n",
              "2                    0                0                0                0   \n",
              "3                    0                0                0                1   \n",
              "4                    0                0                0                0   \n",
              "...                ...              ...              ...              ...   \n",
              "22812                0                0                0                0   \n",
              "22813                0                0                0                1   \n",
              "22814                0                0                0                0   \n",
              "22815                0                0                0                0   \n",
              "22816                0                0                0                0   \n",
              "\n",
              "       property_type_4  property_type_5  \n",
              "0                    0                1  \n",
              "1                    1                0  \n",
              "2                    1                1  \n",
              "3                    0                0  \n",
              "4                    1                1  \n",
              "...                ...              ...  \n",
              "22812                1                1  \n",
              "22813                0                1  \n",
              "22814                1                1  \n",
              "22815                1                1  \n",
              "22816                1                1  \n",
              "\n",
              "[22817 rows x 6 columns]"
            ]
          },
          "execution_count": 24,
          "metadata": {},
          "output_type": "execute_result"
        }
      ],
      "source": [
        "new_columns"
      ]
    },
    {
      "cell_type": "code",
      "execution_count": 25,
      "metadata": {
        "id": "_EO01OgzqNcd"
      },
      "outputs": [],
      "source": [
        "price = df.pop('logprice')"
      ]
    },
    {
      "cell_type": "code",
      "execution_count": 26,
      "metadata": {},
      "outputs": [
        {
          "data": {
            "text/plain": [
              "<Axes: >"
            ]
          },
          "execution_count": 26,
          "metadata": {},
          "output_type": "execute_result"
        },
        {
          "data": {
            "image/png": "[encoded data removed]",
            "text/plain": [
              "<Figure size 640x480 with 1 Axes>"
            ]
          },
          "metadata": {},
          "output_type": "display_data"
        }
      ],
      "source": [
        "price.hist()"
      ]
    },
    {
      "cell_type": "code",
      "execution_count": 27,
      "metadata": {
        "colab": {
          "base_uri": "https://localhost:8080/"
        },
        "id": "Ag8RcUsiqNcj",
        "outputId": "cac73748-32a1-4021-9b8e-f5da3a1ad2c6"
      },
      "outputs": [
        {
          "data": {
            "text/plain": [
              "Index(['latitude', 'longitude', 'accommodates', 'bathrooms', 'bedrooms',\n",
              "       'beds', 'bathrooms_shared', 'room_type_Entire home/apt',\n",
              "       'room_type_Hotel room', 'room_type_Private room',\n",
              "       'room_type_Shared room', 'neighbourhood_I Centro Storico',\n",
              "       'neighbourhood_II Parioli/Nomentano', 'neighbourhood_III Monte Sacro',\n",
              "       'neighbourhood_IV Tiburtina', 'neighbourhood_IX Eur',\n",
              "       'neighbourhood_V Prenestino/Centocelle',\n",
              "       'neighbourhood_VI Roma delle Torri',\n",
              "       'neighbourhood_VII San Giovanni/Cinecittà',\n",
              "       'neighbourhood_VIII Appia Antica', 'neighbourhood_X Ostia/Acilia',\n",
              "       'neighbourhood_XI Arvalia/Portuense', 'neighbourhood_XII Monte Verde',\n",
              "       'neighbourhood_XIII Aurelia', 'neighbourhood_XIV Monte Mario',\n",
              "       'neighbourhood_XV Cassia/Flaminia', 'property_type_0',\n",
              "       'property_type_1', 'property_type_2', 'property_type_3',\n",
              "       'property_type_4', 'property_type_5'],\n",
              "      dtype='object')"
            ]
          },
          "execution_count": 27,
          "metadata": {},
          "output_type": "execute_result"
        }
      ],
      "source": [
        "df.columns"
      ]
    },
    {
      "cell_type": "code",
      "execution_count": 28,
      "metadata": {
        "id": "VwK34L6JqNcm"
      },
      "outputs": [],
      "source": [
        "X_train, X_test, y_train, y_test = train_test_split(df, price, test_size=0.3, random_state=42, shuffle=True)"
      ]
    },
    {
      "cell_type": "code",
      "execution_count": 29,
      "metadata": {
        "id": "FYCMDYzswb3U"
      },
      "outputs": [],
      "source": [
        "columns_to_standardize = ['accommodates', 'bathrooms', 'bedrooms', 'beds', 'longitude', 'latitude']\n",
        "scaler = StandardScaler()\n",
        "X_train[columns_to_standardize] = scaler.fit_transform(X_train[columns_to_standardize])\n",
        "X_test[columns_to_standardize] = scaler.transform(X_test[columns_to_standardize])"
      ]
    },
    {
      "cell_type": "code",
      "execution_count": 30,
      "metadata": {
        "colab": {
          "base_uri": "https://localhost:8080/",
          "height": 834
        },
        "id": "dXk_cBfXALJN",
        "outputId": "1e4464a9-46f4-4df1-9a2b-9fe3b0d378e3"
      },
      "outputs": [
        {
          "data": {
            "image/png": "[encoded data removed]",
            "text/plain": [
              "<Figure size 1000x500 with 1 Axes>"
            ]
          },
          "metadata": {},
          "output_type": "display_data"
        },
        {
          "name": "stdout",
          "output_type": "stream",
          "text": [
            "Number of components chosen: 13\n"
          ]
        }
      ],
      "source": [
        "# Step 3: Perform PCA\n",
        "threshold = 0.95\n",
        "pca = PCA().fit(X_train)\n",
        "\n",
        "# Step 4: Calculate explained variance\n",
        "cumulative_variance = np.cumsum(pca.explained_variance_ratio_)\n",
        "\n",
        "# Step 5: Plot the cumulative explained variance\n",
        "plt.figure(figsize=(10, 5))\n",
        "plt.plot(range(1, len(cumulative_variance) + 1), cumulative_variance, marker='o', linestyle='--')\n",
        "plt.axhline(y=threshold, color='r', linestyle='-')\n",
        "n_components = np.argmax(cumulative_variance >= threshold) + 1\n",
        "plt.axvline(x=n_components, color='b', linestyle='--')\n",
        "\n",
        "# Annotations\n",
        "plt.annotate(f'{n_components} Components',\n",
        "             xy=(n_components, threshold),\n",
        "             xytext=(n_components + 2, threshold - 0.1),\n",
        "             arrowprops=dict(facecolor='black', arrowstyle='->'),\n",
        "             fontsize=10)\n",
        "plt.text(n_components, 0.02, f'{n_components}', color='blue', ha='center', fontsize=12)\n",
        "plt.scatter(n_components, threshold, color='red', zorder=5)\n",
        "\n",
        "# Labels and title\n",
        "plt.title('Cumulative Explained Variance')\n",
        "plt.xlabel('Number of Components')\n",
        "plt.ylabel('Cumulative Explained Variance')\n",
        "plt.grid()\n",
        "plt.show()\n",
        "\n",
        "print(f\"Number of components chosen: {n_components}\")"
      ]
    },
    {
      "cell_type": "code",
      "execution_count": 31,
      "metadata": {
        "id": "ySit9LazqNcv"
      },
      "outputs": [],
      "source": [
        "pca = PCA(n_components=n_components)\n",
        "X_train_transform = pca.fit_transform(X_train)\n",
        "X_test_transform = pca.transform(X_test)"
      ]
    },
    {
      "cell_type": "code",
      "execution_count": 32,
      "metadata": {
        "colab": {
          "base_uri": "https://localhost:8080/"
        },
        "id": "ufyWxQ0_nS4S",
        "outputId": "76718b1f-5b84-4ed7-bef9-2be92d9cd741"
      },
      "outputs": [
        {
          "data": {
            "text/plain": [
              "(15971, 13)"
            ]
          },
          "execution_count": 32,
          "metadata": {},
          "output_type": "execute_result"
        }
      ],
      "source": [
        "X_train_transform.shape"
      ]
    },
    {
      "cell_type": "code",
      "execution_count": 33,
      "metadata": {
        "colab": {
          "base_uri": "https://localhost:8080/"
        },
        "id": "JMR6OJF-qNcv",
        "outputId": "a9a5754a-e445-4f05-f3b1-a7c00d23f19b"
      },
      "outputs": [
        {
          "name": "stdout",
          "output_type": "stream",
          "text": [
            "Best mean squared error:  0.2233754013614259\n"
          ]
        }
      ],
      "source": [
        "# Linear Regression\n",
        "param_grid = {}\n",
        "scoring = make_scorer(mean_squared_error, greater_is_better=False)\n",
        "model = LinearRegression()\n",
        "grid_search_linreg = GridSearchCV(\n",
        "    estimator=model,\n",
        "    param_grid=param_grid,\n",
        "    scoring=scoring,\n",
        "    cv=KFold(5, random_state=2, shuffle=True),\n",
        "    n_jobs=-2\n",
        ")\n",
        "grid_search_linreg.fit(X_train_transform, y_train)\n",
        "# print(\"Best parameters found: \", grid_search_linreg.best_params_)\n",
        "print(\"Best mean squared error: \", -grid_search_linreg.best_score_)"
      ]
    },
    {
      "cell_type": "code",
      "execution_count": 34,
      "metadata": {
        "colab": {
          "base_uri": "https://localhost:8080/"
        },
        "id": "HZYyqNtD7m7t",
        "outputId": "b568a3d6-ae1b-451b-d201-15c9a66cd7e8"
      },
      "outputs": [
        {
          "name": "stdout",
          "output_type": "stream",
          "text": [
            "Best parameters found:  {'alpha': 3.5111917342151346}\n",
            "Best mean squared error:  0.2119161067619201\n"
          ]
        }
      ],
      "source": [
        "# Ridge Regression\n",
        "alphas = np.logspace(-6, 6, 100, base=10)\n",
        "param_grid = {'alpha': alphas}\n",
        "scoring = make_scorer(mean_squared_error, greater_is_better=False)\n",
        "model = Ridge()\n",
        "grid_search_ridge = GridSearchCV(\n",
        "    estimator=model,\n",
        "    param_grid=param_grid,\n",
        "    scoring=scoring,\n",
        "    cv=KFold(5, random_state=2, shuffle=True),\n",
        "    n_jobs=-2\n",
        ")\n",
        "grid_search_ridge.fit(X_train, y_train)\n",
        "print(\"Best parameters found: \", grid_search_ridge.best_params_)\n",
        "print(\"Best mean squared error: \", -grid_search_ridge.best_score_)\n"
      ]
    },
    {
      "cell_type": "code",
      "execution_count": 35,
      "metadata": {
        "colab": {
          "base_uri": "https://localhost:8080/"
        },
        "id": "SMh5EbljBcMf",
        "outputId": "753f0001-dad7-4274-8469-6ed45823b498"
      },
      "outputs": [
        {
          "name": "stdout",
          "output_type": "stream",
          "text": [
            "Best parameters found:  {'alpha': 1.6297508346206434e-05}\n",
            "Best mean squared error:  0.21192488401583587\n"
          ]
        },
        {
          "name": "stderr",
          "output_type": "stream",
          "text": [
            "c:\\Users\\Chiara\\Desktop\\CHIARA\\UNIVR_M\\1 Y\\1Y_2S_Statistical Learning\\SL_PROJECT\\RomeAirbnbAnalysis-main\\.venv\\lib\\site-packages\\sklearn\\linear_model\\_coordinate_descent.py:678: ConvergenceWarning: Objective did not converge. You might want to increase the number of iterations, check the scale of the features or consider increasing regularisation. Duality gap: 2.989e+02, tolerance: 6.413e-01\n",
            "  model = cd_fast.enet_coordinate_descent(\n"
          ]
        }
      ],
      "source": [
        "# Lasso\n",
        "alphas = np.logspace(-6, 6, 100, base=10)\n",
        "param_grid = {'alpha': alphas}\n",
        "model = Lasso()\n",
        "grid_search_lasso = GridSearchCV(\n",
        "    estimator=model,\n",
        "    param_grid=param_grid,\n",
        "    scoring=scoring,\n",
        "    cv=KFold(5, random_state=2, shuffle=True),\n",
        "    n_jobs=-2\n",
        ")\n",
        "grid_search_lasso.fit(X_train, y_train)\n",
        "print(\"Best parameters found: \", grid_search_lasso.best_params_)\n",
        "print(\"Best mean squared error: \", -grid_search_lasso.best_score_)"
      ]
    },
    {
      "cell_type": "code",
      "execution_count": 36,
      "metadata": {},
      "outputs": [
        {
          "data": {
            "text/html": [
              "<style>#sk-container-id-1 {\n",
              "  /* Definition of color scheme common for light and dark mode */\n",
              "  --sklearn-color-text: black;\n",
              "  --sklearn-color-line: gray;\n",
              "  /* Definition of color scheme for unfitted estimators */\n",
              "  --sklearn-color-unfitted-level-0: #fff5e6;\n",
              "  --sklearn-color-unfitted-level-1: #f6e4d2;\n",
              "  --sklearn-color-unfitted-level-2: #ffe0b3;\n",
              "  --sklearn-color-unfitted-level-3: chocolate;\n",
              "  /* Definition of color scheme for fitted estimators */\n",
              "  --sklearn-color-fitted-level-0: #f0f8ff;\n",
              "  --sklearn-color-fitted-level-1: #d4ebff;\n",
              "  --sklearn-color-fitted-level-2: #b3dbfd;\n",
              "  --sklearn-color-fitted-level-3: cornflowerblue;\n",
              "\n",
              "  /* Specific color for light theme */\n",
              "  --sklearn-color-text-on-default-background: var(--sg-text-color, var(--theme-code-foreground, var(--jp-content-font-color1, black)));\n",
              "  --sklearn-color-background: var(--sg-background-color, var(--theme-background, var(--jp-layout-color0, white)));\n",
              "  --sklearn-color-border-box: var(--sg-text-color, var(--theme-code-foreground, var(--jp-content-font-color1, black)));\n",
              "  --sklearn-color-icon: #696969;\n",
              "\n",
              "  @media (prefers-color-scheme: dark) {\n",
              "    /* Redefinition of color scheme for dark theme */\n",
              "    --sklearn-color-text-on-default-background: var(--sg-text-color, var(--theme-code-foreground, var(--jp-content-font-color1, white)));\n",
              "    --sklearn-color-background: var(--sg-background-color, var(--theme-background, var(--jp-layout-color0, #111)));\n",
              "    --sklearn-color-border-box: var(--sg-text-color, var(--theme-code-foreground, var(--jp-content-font-color1, white)));\n",
              "    --sklearn-color-icon: #878787;\n",
              "  }\n",
              "}\n",
              "\n",
              "#sk-container-id-1 {\n",
              "  color: var(--sklearn-color-text);\n",
              "}\n",
              "\n",
              "#sk-container-id-1 pre {\n",
              "  padding: 0;\n",
              "}\n",
              "\n",
              "#sk-container-id-1 input.sk-hidden--visually {\n",
              "  border: 0;\n",
              "  clip: rect(1px 1px 1px 1px);\n",
              "  clip: rect(1px, 1px, 1px, 1px);\n",
              "  height: 1px;\n",
              "  margin: -1px;\n",
              "  overflow: hidden;\n",
              "  padding: 0;\n",
              "  position: absolute;\n",
              "  width: 1px;\n",
              "}\n",
              "\n",
              "#sk-container-id-1 div.sk-dashed-wrapped {\n",
              "  border: 1px dashed var(--sklearn-color-line);\n",
              "  margin: 0 0.4em 0.5em 0.4em;\n",
              "  box-sizing: border-box;\n",
              "  padding-bottom: 0.4em;\n",
              "  background-color: var(--sklearn-color-background);\n",
              "}\n",
              "\n",
              "#sk-container-id-1 div.sk-container {\n",
              "  /* jupyter's `normalize.less` sets `[hidden] { display: none; }`\n",
              "     but bootstrap.min.css set `[hidden] { display: none !important; }`\n",
              "     so we also need the `!important` here to be able to override the\n",
              "     default hidden behavior on the sphinx rendered scikit-learn.org.\n",
              "     See: https://github.com/scikit-learn/scikit-learn/issues/21755 */\n",
              "  display: inline-block !important;\n",
              "  position: relative;\n",
              "}\n",
              "\n",
              "#sk-container-id-1 div.sk-text-repr-fallback {\n",
              "  display: none;\n",
              "}\n",
              "\n",
              "div.sk-parallel-item,\n",
              "div.sk-serial,\n",
              "div.sk-item {\n",
              "  /* draw centered vertical line to link estimators */\n",
              "  background-image: linear-gradient(var(--sklearn-color-text-on-default-background), var(--sklearn-color-text-on-default-background));\n",
              "  background-size: 2px 100%;\n",
              "  background-repeat: no-repeat;\n",
              "  background-position: center center;\n",
              "}\n",
              "\n",
              "/* Parallel-specific style estimator block */\n",
              "\n",
              "#sk-container-id-1 div.sk-parallel-item::after {\n",
              "  content: \"\";\n",
              "  width: 100%;\n",
              "  border-bottom: 2px solid var(--sklearn-color-text-on-default-background);\n",
              "  flex-grow: 1;\n",
              "}\n",
              "\n",
              "#sk-container-id-1 div.sk-parallel {\n",
              "  display: flex;\n",
              "  align-items: stretch;\n",
              "  justify-content: center;\n",
              "  background-color: var(--sklearn-color-background);\n",
              "  position: relative;\n",
              "}\n",
              "\n",
              "#sk-container-id-1 div.sk-parallel-item {\n",
              "  display: flex;\n",
              "  flex-direction: column;\n",
              "}\n",
              "\n",
              "#sk-container-id-1 div.sk-parallel-item:first-child::after {\n",
              "  align-self: flex-end;\n",
              "  width: 50%;\n",
              "}\n",
              "\n",
              "#sk-container-id-1 div.sk-parallel-item:last-child::after {\n",
              "  align-self: flex-start;\n",
              "  width: 50%;\n",
              "}\n",
              "\n",
              "#sk-container-id-1 div.sk-parallel-item:only-child::after {\n",
              "  width: 0;\n",
              "}\n",
              "\n",
              "/* Serial-specific style estimator block */\n",
              "\n",
              "#sk-container-id-1 div.sk-serial {\n",
              "  display: flex;\n",
              "  flex-direction: column;\n",
              "  align-items: center;\n",
              "  background-color: var(--sklearn-color-background);\n",
              "  padding-right: 1em;\n",
              "  padding-left: 1em;\n",
              "}\n",
              "\n",
              "\n",
              "/* Toggleable style: style used for estimator/Pipeline/ColumnTransformer box that is\n",
              "clickable and can be expanded/collapsed.\n",
              "- Pipeline and ColumnTransformer use this feature and define the default style\n",
              "- Estimators will overwrite some part of the style using the `sk-estimator` class\n",
              "*/\n",
              "\n",
              "/* Pipeline and ColumnTransformer style (default) */\n",
              "\n",
              "#sk-container-id-1 div.sk-toggleable {\n",
              "  /* Default theme specific background. It is overwritten whether we have a\n",
              "  specific estimator or a Pipeline/ColumnTransformer */\n",
              "  background-color: var(--sklearn-color-background);\n",
              "}\n",
              "\n",
              "/* Toggleable label */\n",
              "#sk-container-id-1 label.sk-toggleable__label {\n",
              "  cursor: pointer;\n",
              "  display: block;\n",
              "  width: 100%;\n",
              "  margin-bottom: 0;\n",
              "  padding: 0.5em;\n",
              "  box-sizing: border-box;\n",
              "  text-align: center;\n",
              "}\n",
              "\n",
              "#sk-container-id-1 label.sk-toggleable__label-arrow:before {\n",
              "  /* Arrow on the left of the label */\n",
              "  content: \"▸\";\n",
              "  float: left;\n",
              "  margin-right: 0.25em;\n",
              "  color: var(--sklearn-color-icon);\n",
              "}\n",
              "\n",
              "#sk-container-id-1 label.sk-toggleable__label-arrow:hover:before {\n",
              "  color: var(--sklearn-color-text);\n",
              "}\n",
              "\n",
              "/* Toggleable content - dropdown */\n",
              "\n",
              "#sk-container-id-1 div.sk-toggleable__content {\n",
              "  max-height: 0;\n",
              "  max-width: 0;\n",
              "  overflow: hidden;\n",
              "  text-align: left;\n",
              "  /* unfitted */\n",
              "  background-color: var(--sklearn-color-unfitted-level-0);\n",
              "}\n",
              "\n",
              "#sk-container-id-1 div.sk-toggleable__content.fitted {\n",
              "  /* fitted */\n",
              "  background-color: var(--sklearn-color-fitted-level-0);\n",
              "}\n",
              "\n",
              "#sk-container-id-1 div.sk-toggleable__content pre {\n",
              "  margin: 0.2em;\n",
              "  border-radius: 0.25em;\n",
              "  color: var(--sklearn-color-text);\n",
              "  /* unfitted */\n",
              "  background-color: var(--sklearn-color-unfitted-level-0);\n",
              "}\n",
              "\n",
              "#sk-container-id-1 div.sk-toggleable__content.fitted pre {\n",
              "  /* unfitted */\n",
              "  background-color: var(--sklearn-color-fitted-level-0);\n",
              "}\n",
              "\n",
              "#sk-container-id-1 input.sk-toggleable__control:checked~div.sk-toggleable__content {\n",
              "  /* Expand drop-down */\n",
              "  max-height: 200px;\n",
              "  max-width: 100%;\n",
              "  overflow: auto;\n",
              "}\n",
              "\n",
              "#sk-container-id-1 input.sk-toggleable__control:checked~label.sk-toggleable__label-arrow:before {\n",
              "  content: \"▾\";\n",
              "}\n",
              "\n",
              "/* Pipeline/ColumnTransformer-specific style */\n",
              "\n",
              "#sk-container-id-1 div.sk-label input.sk-toggleable__control:checked~label.sk-toggleable__label {\n",
              "  color: var(--sklearn-color-text);\n",
              "  background-color: var(--sklearn-color-unfitted-level-2);\n",
              "}\n",
              "\n",
              "#sk-container-id-1 div.sk-label.fitted input.sk-toggleable__control:checked~label.sk-toggleable__label {\n",
              "  background-color: var(--sklearn-color-fitted-level-2);\n",
              "}\n",
              "\n",
              "/* Estimator-specific style */\n",
              "\n",
              "/* Colorize estimator box */\n",
              "#sk-container-id-1 div.sk-estimator input.sk-toggleable__control:checked~label.sk-toggleable__label {\n",
              "  /* unfitted */\n",
              "  background-color: var(--sklearn-color-unfitted-level-2);\n",
              "}\n",
              "\n",
              "#sk-container-id-1 div.sk-estimator.fitted input.sk-toggleable__control:checked~label.sk-toggleable__label {\n",
              "  /* fitted */\n",
              "  background-color: var(--sklearn-color-fitted-level-2);\n",
              "}\n",
              "\n",
              "#sk-container-id-1 div.sk-label label.sk-toggleable__label,\n",
              "#sk-container-id-1 div.sk-label label {\n",
              "  /* The background is the default theme color */\n",
              "  color: var(--sklearn-color-text-on-default-background);\n",
              "}\n",
              "\n",
              "/* On hover, darken the color of the background */\n",
              "#sk-container-id-1 div.sk-label:hover label.sk-toggleable__label {\n",
              "  color: var(--sklearn-color-text);\n",
              "  background-color: var(--sklearn-color-unfitted-level-2);\n",
              "}\n",
              "\n",
              "/* Label box, darken color on hover, fitted */\n",
              "#sk-container-id-1 div.sk-label.fitted:hover label.sk-toggleable__label.fitted {\n",
              "  color: var(--sklearn-color-text);\n",
              "  background-color: var(--sklearn-color-fitted-level-2);\n",
              "}\n",
              "\n",
              "/* Estimator label */\n",
              "\n",
              "#sk-container-id-1 div.sk-label label {\n",
              "  font-family: monospace;\n",
              "  font-weight: bold;\n",
              "  display: inline-block;\n",
              "  line-height: 1.2em;\n",
              "}\n",
              "\n",
              "#sk-container-id-1 div.sk-label-container {\n",
              "  text-align: center;\n",
              "}\n",
              "\n",
              "/* Estimator-specific */\n",
              "#sk-container-id-1 div.sk-estimator {\n",
              "  font-family: monospace;\n",
              "  border: 1px dotted var(--sklearn-color-border-box);\n",
              "  border-radius: 0.25em;\n",
              "  box-sizing: border-box;\n",
              "  margin-bottom: 0.5em;\n",
              "  /* unfitted */\n",
              "  background-color: var(--sklearn-color-unfitted-level-0);\n",
              "}\n",
              "\n",
              "#sk-container-id-1 div.sk-estimator.fitted {\n",
              "  /* fitted */\n",
              "  background-color: var(--sklearn-color-fitted-level-0);\n",
              "}\n",
              "\n",
              "/* on hover */\n",
              "#sk-container-id-1 div.sk-estimator:hover {\n",
              "  /* unfitted */\n",
              "  background-color: var(--sklearn-color-unfitted-level-2);\n",
              "}\n",
              "\n",
              "#sk-container-id-1 div.sk-estimator.fitted:hover {\n",
              "  /* fitted */\n",
              "  background-color: var(--sklearn-color-fitted-level-2);\n",
              "}\n",
              "\n",
              "/* Specification for estimator info (e.g. \"i\" and \"?\") */\n",
              "\n",
              "/* Common style for \"i\" and \"?\" */\n",
              "\n",
              ".sk-estimator-doc-link,\n",
              "a:link.sk-estimator-doc-link,\n",
              "a:visited.sk-estimator-doc-link {\n",
              "  float: right;\n",
              "  font-size: smaller;\n",
              "  line-height: 1em;\n",
              "  font-family: monospace;\n",
              "  background-color: var(--sklearn-color-background);\n",
              "  border-radius: 1em;\n",
              "  height: 1em;\n",
              "  width: 1em;\n",
              "  text-decoration: none !important;\n",
              "  margin-left: 1ex;\n",
              "  /* unfitted */\n",
              "  border: var(--sklearn-color-unfitted-level-1) 1pt solid;\n",
              "  color: var(--sklearn-color-unfitted-level-1);\n",
              "}\n",
              "\n",
              ".sk-estimator-doc-link.fitted,\n",
              "a:link.sk-estimator-doc-link.fitted,\n",
              "a:visited.sk-estimator-doc-link.fitted {\n",
              "  /* fitted */\n",
              "  border: var(--sklearn-color-fitted-level-1) 1pt solid;\n",
              "  color: var(--sklearn-color-fitted-level-1);\n",
              "}\n",
              "\n",
              "/* On hover */\n",
              "div.sk-estimator:hover .sk-estimator-doc-link:hover,\n",
              ".sk-estimator-doc-link:hover,\n",
              "div.sk-label-container:hover .sk-estimator-doc-link:hover,\n",
              ".sk-estimator-doc-link:hover {\n",
              "  /* unfitted */\n",
              "  background-color: var(--sklearn-color-unfitted-level-3);\n",
              "  color: var(--sklearn-color-background);\n",
              "  text-decoration: none;\n",
              "}\n",
              "\n",
              "div.sk-estimator.fitted:hover .sk-estimator-doc-link.fitted:hover,\n",
              ".sk-estimator-doc-link.fitted:hover,\n",
              "div.sk-label-container:hover .sk-estimator-doc-link.fitted:hover,\n",
              ".sk-estimator-doc-link.fitted:hover {\n",
              "  /* fitted */\n",
              "  background-color: var(--sklearn-color-fitted-level-3);\n",
              "  color: var(--sklearn-color-background);\n",
              "  text-decoration: none;\n",
              "}\n",
              "\n",
              "/* Span, style for the box shown on hovering the info icon */\n",
              ".sk-estimator-doc-link span {\n",
              "  display: none;\n",
              "  z-index: 9999;\n",
              "  position: relative;\n",
              "  font-weight: normal;\n",
              "  right: .2ex;\n",
              "  padding: .5ex;\n",
              "  margin: .5ex;\n",
              "  width: min-content;\n",
              "  min-width: 20ex;\n",
              "  max-width: 50ex;\n",
              "  color: var(--sklearn-color-text);\n",
              "  box-shadow: 2pt 2pt 4pt #999;\n",
              "  /* unfitted */\n",
              "  background: var(--sklearn-color-unfitted-level-0);\n",
              "  border: .5pt solid var(--sklearn-color-unfitted-level-3);\n",
              "}\n",
              "\n",
              ".sk-estimator-doc-link.fitted span {\n",
              "  /* fitted */\n",
              "  background: var(--sklearn-color-fitted-level-0);\n",
              "  border: var(--sklearn-color-fitted-level-3);\n",
              "}\n",
              "\n",
              ".sk-estimator-doc-link:hover span {\n",
              "  display: block;\n",
              "}\n",
              "\n",
              "/* \"?\"-specific style due to the `<a>` HTML tag */\n",
              "\n",
              "#sk-container-id-1 a.estimator_doc_link {\n",
              "  float: right;\n",
              "  font-size: 1rem;\n",
              "  line-height: 1em;\n",
              "  font-family: monospace;\n",
              "  background-color: var(--sklearn-color-background);\n",
              "  border-radius: 1rem;\n",
              "  height: 1rem;\n",
              "  width: 1rem;\n",
              "  text-decoration: none;\n",
              "  /* unfitted */\n",
              "  color: var(--sklearn-color-unfitted-level-1);\n",
              "  border: var(--sklearn-color-unfitted-level-1) 1pt solid;\n",
              "}\n",
              "\n",
              "#sk-container-id-1 a.estimator_doc_link.fitted {\n",
              "  /* fitted */\n",
              "  border: var(--sklearn-color-fitted-level-1) 1pt solid;\n",
              "  color: var(--sklearn-color-fitted-level-1);\n",
              "}\n",
              "\n",
              "/* On hover */\n",
              "#sk-container-id-1 a.estimator_doc_link:hover {\n",
              "  /* unfitted */\n",
              "  background-color: var(--sklearn-color-unfitted-level-3);\n",
              "  color: var(--sklearn-color-background);\n",
              "  text-decoration: none;\n",
              "}\n",
              "\n",
              "#sk-container-id-1 a.estimator_doc_link.fitted:hover {\n",
              "  /* fitted */\n",
              "  background-color: var(--sklearn-color-fitted-level-3);\n",
              "}\n",
              "</style><div id=\"sk-container-id-1\" class=\"sk-top-container\"><div class=\"sk-text-repr-fallback\"><pre>DummyRegressor()</pre><b>In a Jupyter environment, please rerun this cell to show the HTML representation or trust the notebook. <br />On GitHub, the HTML representation is unable to render, please try loading this page with nbviewer.org.</b></div><div class=\"sk-container\" hidden><div class=\"sk-item\"><div class=\"sk-estimator fitted sk-toggleable\"><input class=\"sk-toggleable__control sk-hidden--visually\" id=\"sk-estimator-id-1\" type=\"checkbox\" checked><label for=\"sk-estimator-id-1\" class=\"sk-toggleable__label fitted sk-toggleable__label-arrow fitted\">&nbsp;&nbsp;DummyRegressor<a class=\"sk-estimator-doc-link fitted\" rel=\"noreferrer\" target=\"_blank\" href=\"https://scikit-learn.org/1.4/modules/generated/sklearn.dummy.DummyRegressor.html\">?<span>Documentation for DummyRegressor</span></a><span class=\"sk-estimator-doc-link fitted\">i<span>Fitted</span></span></label><div class=\"sk-toggleable__content fitted\"><pre>DummyRegressor()</pre></div> </div></div></div></div>"
            ],
            "text/plain": [
              "DummyRegressor()"
            ]
          },
          "execution_count": 36,
          "metadata": {},
          "output_type": "execute_result"
        }
      ],
      "source": [
        "dummy_reg_mean = DummyRegressor(strategy='mean')\n",
        "dummy_reg_mean.fit(X_train, y_train)"
      ]
    },
    {
      "cell_type": "code",
      "execution_count": 38,
      "metadata": {},
      "outputs": [
        {
          "name": "stdout",
          "output_type": "stream",
          "text": [
            "PCA + Linear Regression mean squared error: 39254.38511815267 R^2: -1.6001763525887176\n",
            "Ridge mean squared error: 40700.55962972216 R^2: -1.4580764508260189\n",
            "Dummy_mean mean squared error: 23551.532390822835 R^2: -2.9155384933126126e+31\n",
            "                                  MSE           R^2\n",
            "PCA + Linear Regression  39254.385118 -1.600176e+00\n",
            "Ridge                    40700.559630 -1.458076e+00\n",
            "Dummy_mean               23551.532391 -2.915538e+31\n"
          ]
        },
        {
          "data": {
            "image/png": "[encoded data removed]",
            "text/plain": [
              "<Figure size 800x500 with 1 Axes>"
            ]
          },
          "metadata": {},
          "output_type": "display_data"
        }
      ],
      "source": [
        "import matplotlib.table as tbl\n",
        "\n",
        "# Exponential Function with Bias Correction\n",
        "\n",
        "# Dictionary to store performance metrics\n",
        "performance = {}\n",
        "\n",
        "# Evaluate performance for PCA + Linear Regression model separately\n",
        "model = grid_search_linreg.best_estimator_\n",
        "name = \"PCA + Linear Regression\"\n",
        "X_test_transform = pca.transform(X_test)\n",
        "predictions = model.predict(X_test_transform)\n",
        "\n",
        "# Assuming y_log_pred are the log-transformed predictions and y_true_log are the actual log prices\n",
        "residuals_log = y_test - predictions\n",
        "sigma_squared = np.var(residuals_log)\n",
        "y_pred_corrected = np.exp(predictions + (sigma_squared / 2))\n",
        "\n",
        "mse = mean_squared_error(y_pred_corrected, predictions)\n",
        "r_squared = r2_score(y_pred_corrected, predictions)\n",
        "\n",
        "performance[name] = {'MSE': mse, 'R^2': r_squared}\n",
        "print(f\"{name} mean squared error: {mse}\", f\"R^2: {r_squared}\")\n",
        "\n",
        "# Dictionary of trained models in the specified order\n",
        "trained = {\n",
        "    'Ridge': grid_search_ridge.best_estimator_, \n",
        "    'Dummy_mean': dummy_reg_mean\n",
        "}\n",
        "\n",
        "# Evaluate performance for each model in 'trained'\n",
        "for name, model in trained.items():\n",
        "    predictions = model.predict(X_test)\n",
        "\n",
        "    # Assuming y_log_pred are the log-transformed predictions and y_true_log are the actual log prices\n",
        "    residuals_log = y_test - predictions\n",
        "    sigma_squared = np.var(residuals_log)\n",
        "    y_pred_corrected = np.exp(predictions + (sigma_squared / 2))\n",
        "\n",
        "    mse = mean_squared_error(y_pred_corrected, predictions)\n",
        "    r_squared = r2_score(y_pred_corrected, predictions)\n",
        "    \n",
        "    performance[name] = {'MSE': mse, 'R^2': r_squared}\n",
        "    print(f\"{name} mean squared error: {mse}\", f\"R^2: {r_squared}\")\n",
        "\n",
        "\n",
        "# Convert the performance dictionary to a DataFrame\n",
        "performance_df = pd.DataFrame(performance).T\n",
        "print(performance_df)\n",
        "\n",
        "# Create a table and save it as an image\n",
        "fig, ax = plt.subplots(figsize=(8, 5))  # set size frame\n",
        "ax.axis('tight')\n",
        "ax.axis('off')\n",
        "table = tbl.table(ax, cellText=performance_df.values, colLabels=performance_df.columns, rowLabels=performance_df.index, cellLoc='center', loc='center')\n",
        "table.auto_set_font_size(False)\n",
        "table.set_fontsize(10)\n",
        "table.scale(1, 1)\n",
        "\n",
        "plt.savefig('model_performance.png', dpi=300, bbox_inches='tight')\n",
        "plt.show()"
      ]
    },
    {
      "cell_type": "code",
      "execution_count": 37,
      "metadata": {},
      "outputs": [
        {
          "name": "stdout",
          "output_type": "stream",
          "text": [
            "PCA + Linear Regression mean squared error: 45738.12052901441 R^2: -1.6078056345481886\n",
            "Ridge mean squared error: 47129.975615290256 R^2: -1.4647740565322165\n",
            "Dummy_mean mean squared error: 27647.202930448497 R^2: -3.4225579481850293e+31\n",
            "                                  MSE           R^2\n",
            "PCA + Linear Regression  45738.120529 -1.607806e+00\n",
            "Ridge                    47129.975615 -1.464774e+00\n",
            "Dummy_mean               27647.202930 -3.422558e+31\n"
          ]
        },
        {
          "data": {
            "image/png": "[encoded data removed]",
            "text/plain": [
              "<Figure size 800x500 with 1 Axes>"
            ]
          },
          "metadata": {},
          "output_type": "display_data"
        }
      ],
      "source": [
        "import matplotlib.table as tbl\n",
        "\n",
        "# Smearing Estimator\n",
        "\n",
        "# Dictionary to store performance metrics\n",
        "performance = {}\n",
        "\n",
        "# Evaluate performance for PCA + Linear Regression model separately\n",
        "model = grid_search_linreg.best_estimator_\n",
        "name = \"PCA + Linear Regression\"\n",
        "X_test_transform = pca.transform(X_test)\n",
        "predictions = model.predict(X_test_transform)\n",
        "\n",
        "# Calculate residuals in the log space\n",
        "residuals_log = y_test - predictions\n",
        "# Compute the smearing factor\n",
        "smearing_factor = np.mean(np.exp(residuals_log))\n",
        "# Apply the smearing factor to the exponentiated predictions\n",
        "y_pred_smeared = smearing_factor * np.exp(predictions)\n",
        "\n",
        "mse = mean_squared_error(y_pred_smeared, predictions)\n",
        "r_squared = r2_score(y_pred_smeared, predictions)\n",
        "\n",
        "performance[name] = {'MSE': mse, 'R^2': r_squared}\n",
        "print(f\"{name} mean squared error: {mse}\", f\"R^2: {r_squared}\")\n",
        "\n",
        "# Dictionary of trained models in the specified order\n",
        "trained = {\n",
        "    'Ridge': grid_search_ridge.best_estimator_, \n",
        "    'Dummy_mean': dummy_reg_mean\n",
        "}\n",
        "\n",
        "# Evaluate performance for each model in 'trained'\n",
        "for name, model in trained.items():\n",
        "    predictions = model.predict(X_test)\n",
        "\n",
        "    # Calculate residuals in the log space\n",
        "    residuals_log = y_test - predictions\n",
        "    # Compute the smearing factor\n",
        "    smearing_factor = np.mean(np.exp(residuals_log))\n",
        "    # Apply the smearing factor to the exponentiated predictions\n",
        "    y_pred_smeared = smearing_factor * np.exp(predictions)\n",
        "\n",
        "    mse = mean_squared_error(y_pred_smeared, predictions)\n",
        "    r_squared = r2_score(y_pred_smeared, predictions)\n",
        "\n",
        "    performance[name] = {'MSE': mse, 'R^2': r_squared}\n",
        "    print(f\"{name} mean squared error: {mse}\", f\"R^2: {r_squared}\")\n",
        "\n",
        "\n",
        "# Convert the performance dictionary to a DataFrame\n",
        "performance_df = pd.DataFrame(performance).T\n",
        "print(performance_df)\n",
        "\n",
        "# Create a table and save it as an image\n",
        "fig, ax = plt.subplots(figsize=(8, 5))  # set size frame\n",
        "ax.axis('tight')\n",
        "ax.axis('off')\n",
        "table = tbl.table(ax, cellText=performance_df.values, colLabels=performance_df.columns, rowLabels=performance_df.index, cellLoc='center', loc='center')\n",
        "table.auto_set_font_size(False)\n",
        "table.set_fontsize(10)\n",
        "table.scale(1, 1)\n",
        "\n",
        "plt.savefig('model_performance.png', dpi=300, bbox_inches='tight')\n",
        "plt.show()"
      ]
    },
    {
      "cell_type": "code",
      "execution_count": null,
      "metadata": {},
      "outputs": [],
      "source": [
        "import matplotlib.table as tbl\n",
        "\n",
        "# Exponential Function with Bias Correction\n",
        "\n",
        "# Dictionary to store performance metrics\n",
        "performance = {}\n",
        "\n",
        "# Evaluate performance for PCA + Linear Regression model separately\n",
        "model = grid_search_linreg.best_estimator_\n",
        "name = \"PCA + Linear Regression\"\n",
        "X_test_transform = pca.transform(X_test)\n",
        "predictions = model.predict(X_test_transform)\n",
        "\n",
        "# Assuming y_log_pred are the log-transformed predictions and y_true_log are the actual log prices\n",
        "residuals_log = y_test - predictions\n",
        "sigma_squared = np.var(residuals_log)\n",
        "y_pred_corrected = np.exp(predictions + (sigma_squared / 2))\n",
        "\n",
        "mse = mean_squared_error(y_pred_corrected, predictions)\n",
        "r_squared = r2_score(y_pred_corrected, predictions)\n",
        "\n",
        "performance[name] = {'MSE': mse, 'R^2': r_squared}\n",
        "print(f\"{name} mean squared error: {mse}\", f\"R^2: {r_squared}\")\n",
        "\n",
        "# Dictionary of trained models in the specified order\n",
        "trained = {\n",
        "    'Ridge': grid_search_ridge.best_estimator_, \n",
        "    'Dummy_mean': dummy_reg_mean\n",
        "}\n",
        "\n",
        "# Evaluate performance for each model in 'trained'\n",
        "for name, model in trained.items():\n",
        "    predictions = model.predict(X_test)\n",
        "\n",
        "    # Assuming y_log_pred are the log-transformed predictions and y_true_log are the actual log prices\n",
        "    residuals_log = y_test - predictions\n",
        "    sigma_squared = np.var(residuals_log)\n",
        "    y_pred_corrected = np.exp(predictions + (sigma_squared / 2))\n",
        "\n",
        "    mse = mean_squared_error(y_pred_corrected, predictions)\n",
        "    r_squared = r2_score(y_pred_corrected, predictions)\n",
        "    \n",
        "    performance[name] = {'MSE': mse, 'R^2': r_squared}\n",
        "    print(f\"{name} mean squared error: {mse}\", f\"R^2: {r_squared}\")\n",
        "\n",
        "\n",
        "# Convert the performance dictionary to a DataFrame\n",
        "performance_df = pd.DataFrame(performance).T\n",
        "print(performance_df)\n",
        "\n",
        "# Create a table and save it as an image\n",
        "fig, ax = plt.subplots(figsize=(8, 5))  # set size frame\n",
        "ax.axis('tight')\n",
        "ax.axis('off')\n",
        "table = tbl.table(ax, cellText=performance_df.values, colLabels=performance_df.columns, rowLabels=performance_df.index, cellLoc='center', loc='center')\n",
        "table.auto_set_font_size(False)\n",
        "table.set_fontsize(10)\n",
        "table.scale(1, 1)\n",
        "\n",
        "plt.savefig('model_performance.png', dpi=300, bbox_inches='tight')\n",
        "plt.show()"
      ]
    },
    {
      "cell_type": "code",
      "execution_count": null,
      "metadata": {},
      "outputs": [],
      "source": []
    },
    {
      "cell_type": "code",
      "execution_count": null,
      "metadata": {},
      "outputs": [],
      "source": []
    },
    {
      "cell_type": "code",
      "execution_count": null,
      "metadata": {
        "colab": {
          "base_uri": "https://localhost:8080/"
        },
        "id": "kvkIk6-xlEEl",
        "outputId": "2fa3cf97-03f5-4061-e396-5621f8da382a"
      },
      "outputs": [],
      "source": [
        "# Decision Tree\n",
        "param_grid = param_grid = {\n",
        "    'splitter': ['best', 'random'],\n",
        "    'max_depth': [None, 5, 10, 15, 20],\n",
        "    'min_samples_split': [2, 5, 10],\n",
        "    'min_samples_leaf': [1, 2, 4],\n",
        "    'max_features': [None, 'sqrt', 'log2'],\n",
        "    'min_impurity_decrease': [0.0, 0.1, 0.2],\n",
        "    'ccp_alpha': [0.0, 0.1, 0.2],\n",
        "    'random_state': [2]  # Adjust this according to your needs\n",
        "}\n",
        "model = DecisionTreeRegressor()\n",
        "grid_search_dt = GridSearchCV(\n",
        "    estimator=model,\n",
        "    param_grid=param_grid,\n",
        "    scoring=scoring,\n",
        "    cv=KFold(5, random_state=2, shuffle=True),\n",
        "    n_jobs=-2,\n",
        "    verbose=1\n",
        ")\n",
        "grid_search_dt.fit(X_train, y_train)\n",
        "print(\"Best parameters found: \", grid_search_dt.best_params_)\n",
        "print(\"Best mean squared error: \", -grid_search_dt.best_score_)"
      ]
    },
    {
      "cell_type": "code",
      "execution_count": null,
      "metadata": {
        "colab": {
          "base_uri": "https://localhost:8080/",
          "height": 373
        },
        "id": "O0Ac2J6TFRk2",
        "outputId": "fc560078-7f30-4a11-fc86-16506f200e0f"
      },
      "outputs": [],
      "source": [
        "# Random Forest\n",
        "param_grid = param_grid = {\n",
        "    'n_estimators': [100, 200, 300],\n",
        "    'max_features': ['sqrt', 'log2'],\n",
        "    'max_depth': [10, 20, 30, None],\n",
        "    'min_samples_split': [2, 5, 10],\n",
        "    'min_samples_leaf': [1, 2, 4],\n",
        "    'bootstrap': [True, False]\n",
        "}\n",
        "model = RandomForestRegressor()\n",
        "grid_search_rf = GridSearchCV(\n",
        "    estimator=model,\n",
        "    param_grid=param_grid,\n",
        "    scoring=scoring,\n",
        "    cv=KFold(5, random_state=2, shuffle=True),\n",
        "    n_jobs=-2,\n",
        "    verbose=1\n",
        ")\n",
        "grid_search_rf.fit(X_train, y_train)\n",
        "print(\"Best parameters found: \", grid_search_rf.best_params_)\n",
        "print(\"Best mean squared error: \", -grid_search_rf.best_score_)"
      ]
    },
    {
      "cell_type": "code",
      "execution_count": null,
      "metadata": {
        "id": "GYHbeoxylEEl"
      },
      "outputs": [],
      "source": [
        "# XGBoost\n",
        "param_grid = param_grid = {\n",
        "    'n_estimators': [100, 200, 300],\n",
        "    'learning_rate': [0.01, 0.1, 0.2],\n",
        "}\n",
        "model = xgb.XGBRegressor(random_state=2)\n",
        "grid_search_xgb = GridSearchCV(\n",
        "    estimator=model,\n",
        "    param_grid=param_grid,\n",
        "    scoring=scoring,\n",
        "    cv=KFold(5, random_state=2, shuffle=True),\n",
        "    n_jobs=-2\n",
        ")\n",
        "grid_search_xgb.fit(X_train, y_train)\n",
        "print(\"Best parameters found: \", grid_search_xgb.best_params_)\n",
        "print(\"Best mean squared error: \", -grid_search_xgb.best_score_)"
      ]
    },
    {
      "cell_type": "code",
      "execution_count": null,
      "metadata": {
        "id": "ENUw_s76lEEm"
      },
      "outputs": [],
      "source": [
        "dummy_reg_mean = DummyRegressor(strategy='mean')\n",
        "dummy_reg_mean.fit(X_train, y_train)"
      ]
    },
    {
      "cell_type": "code",
      "execution_count": null,
      "metadata": {},
      "outputs": [],
      "source": [
        "import matplotlib.table as tbl\n",
        "\n",
        "# Dictionary to store performance metrics\n",
        "performance = {}\n",
        "\n",
        "# Evaluate performance for PCA + Linear Regression model separately\n",
        "model = grid_search_linreg.best_estimator_\n",
        "name = \"PCA + Linear Regression\"\n",
        "X_test_transform = pca.transform(X_test)\n",
        "predictions = model.predict(X_test_transform)\n",
        "mse = mean_squared_error(y_test, predictions)\n",
        "rmse = np.sqrt(mse)\n",
        "r_squared = r2_score(y_test, predictions)\n",
        "performance[name] = {'MSE': mse, 'R^2': r_squared}\n",
        "print(f\"{name} mean squared error: {mse}\", f\"root mean squared error: {rmse}\", f\"R^2: {r_squared}\")\n",
        "\n",
        "# Dictionary of trained models in the specified order\n",
        "trained = {\n",
        "    'Ridge': grid_search_ridge.best_estimator_,\n",
        "    'DecisionTree': grid_search_dt.best_estimator_,\n",
        "    'RandomForest': grid_search_rf.best_estimator_,\n",
        "    'XGBoost': grid_search_xgb.best_estimator_,\n",
        "    'Dummy_mean': dummy_reg_mean\n",
        "}\n",
        "\n",
        "# Evaluate performance for each model in 'trained'\n",
        "for name, model in trained.items():\n",
        "    predictions = model.predict(X_test)\n",
        "    mse = mean_squared_error(y_test, predictions)\n",
        "    rmse = np.sqrt(mse)\n",
        "    r_squared = r2_score(y_test, predictions)\n",
        "    performance[name] = {'MSE': mse, 'R^2': r_squared}\n",
        "    print(f\"{name} mean squared error: {mse}\", f\"root mean squared error: {rmse}\", f\"R^2: {r_squared}\")\n",
        "\n",
        "\n",
        "# Convert the performance dictionary to a DataFrame\n",
        "performance_df = pd.DataFrame(performance).T\n",
        "print(performance_df)\n",
        "\n",
        "# Create a table and save it as an image\n",
        "fig, ax = plt.subplots(figsize=(8, 5))  # set size frame\n",
        "ax.axis('tight')\n",
        "ax.axis('off')\n",
        "table = tbl.table(ax, cellText=performance_df.values, colLabels=performance_df.columns, rowLabels=performance_df.index, cellLoc='center', loc='center')\n",
        "table.auto_set_font_size(False)\n",
        "table.set_fontsize(10)\n",
        "table.scale(1, 1)\n",
        "\n",
        "plt.savefig('model_performance.png', dpi=300, bbox_inches='tight')\n",
        "plt.show()"
      ]
    },
    {
      "cell_type": "code",
      "execution_count": null,
      "metadata": {
        "id": "EfynbX45lEEm"
      },
      "outputs": [],
      "source": [
        "plt.figure(figsize=(10, 7))\n",
        "bars = plt.bar(performance_df.index, performance_df['MSE'], color=['skyblue', 'lightgreen', 'gold','orange','lightcoral','lightgrey'])\n",
        "\n",
        "# Add text annotations\n",
        "for bar in bars:\n",
        "    yval = bar.get_height()\n",
        "    plt.text(bar.get_x() + bar.get_width()/2, yval, round(yval, 2), va='bottom')\n",
        "\n",
        "plt.xlabel('Model')\n",
        "plt.ylabel('Mean Squared Error (MSE)')\n",
        "plt.title('Mean Squared Error (MSE) by Model')\n",
        "plt.xticks(rotation=45, ha='right')\n",
        "plt.tight_layout()\n",
        "plt.show()"
      ]
    },
    {
      "cell_type": "code",
      "execution_count": null,
      "metadata": {
        "id": "y3IffoCWBoZ5"
      },
      "outputs": [],
      "source": [
        "# Plotting R-squared\n",
        "plt.figure(figsize=(10, 7))\n",
        "bars = plt.bar(performance_df.index, performance_df['R^2'], color=['skyblue', 'lightgreen', 'gold','orange','lightcoral','lightgrey'])\n",
        "\n",
        "# Add text annotations\n",
        "for bar in bars:\n",
        "    yval = bar.get_height()\n",
        "    plt.text(bar.get_x() + bar.get_width()/2, yval, round(yval, 2), va='bottom')\n",
        "\n",
        "plt.xlabel('Model')\n",
        "plt.ylabel('R-squared (R^2)')\n",
        "plt.title('R-squared (R^2) by Model')\n",
        "plt.xticks(rotation=45, ha='right')\n",
        "plt.tight_layout()\n",
        "plt.show()\n"
      ]
    },
    {
      "cell_type": "code",
      "execution_count": null,
      "metadata": {},
      "outputs": [],
      "source": [
        "importances = grid_search_rf.best_estimator_.feature_importances_\n",
        "feature_names = X_train.columns\n",
        "\n",
        "# Plot the feature importances\n",
        "plt.figure(figsize=(10, 8))\n",
        "\n",
        "# Selecting a colormap with distinct colors\n",
        "colormap = plt.cm.tab20c\n",
        "\n",
        "# Plotting each bar with a different color\n",
        "bars = plt.barh(feature_names, importances, color=[colormap(i) for i in range(len(feature_names))])\n",
        "\n",
        "# Add text annotations for values > 0.015\n",
        "for bar, imp in zip(bars, importances):\n",
        "    if imp > 0.015:\n",
        "        plt.text(bar.get_width(), bar.get_y() + bar.get_height()/2, round(imp, 4), va='center')\n",
        "\n",
        "plt.xlabel('Feature Importance', fontsize=14)\n",
        "plt.ylabel('Feature', fontsize=14)\n",
        "plt.title('Feature Importance in RandomForestRegressor', fontsize=16)\n",
        "plt.show()"
      ]
    },
    {
      "cell_type": "code",
      "execution_count": null,
      "metadata": {},
      "outputs": [],
      "source": [
        "pred = grid_search_rf.best_estimator_.predict(X_test)\n",
        "plt.hist(pred, bins=50, alpha=0.5, label='Predictions')\n",
        "plt.hist(y_test, bins=50, alpha=0.5, label='True values')\n",
        "plt.legend()\n",
        "plt.savefig('distr_pred.png', dpi=1000, bbox_inches='tight')\n"
      ]
    },
    {
      "cell_type": "code",
      "execution_count": null,
      "metadata": {},
      "outputs": [],
      "source": [
        "pred = grid_search_rf.best_estimator_.predict(X_test)\n",
        "plt.hist(np.exp(pred), bins=50, alpha=0.5, label='Predictions')\n",
        "plt.hist(np.exp(y_test), bins=50, alpha=0.5, label='True values')\n",
        "plt.legend()\n",
        "plt.savefig('distr_pred.png', dpi=1000, bbox_inches='tight')\n"
      ]
    }
  ],
  "metadata": {
    "colab": {
      "provenance": []
    },
    "kernelspec": {
      "display_name": ".venv",
      "language": "python",
      "name": "python3"
    },
    "language_info": {
      "codemirror_mode": {
        "name": "ipython",
        "version": 3
      },
      "file_extension": ".py",
      "mimetype": "text/x-python",
      "name": "python",
      "nbconvert_exporter": "python",
      "pygments_lexer": "ipython3",
      "version": "3.10.11"
    }
  },
  "nbformat": 4,
  "nbformat_minor": 0
}
