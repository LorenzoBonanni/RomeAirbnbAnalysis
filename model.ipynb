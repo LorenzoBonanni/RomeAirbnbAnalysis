{
  "cells": [
    {
      "cell_type": "code",
      "execution_count": 52,
      "metadata": {
        "colab": {
          "base_uri": "https://localhost:8080/"
        },
        "id": "EeT8nL65lW3V",
        "outputId": "d48cb492-cd66-4df0-cf8f-032cab7345dc"
      },
      "outputs": [
        {
          "name": "stdout",
          "output_type": "stream",
          "text": [
            "Requirement already satisfied: category_encoders in ./.venv/lib/python3.10/site-packages (2.6.3)\n",
            "Requirement already satisfied: numpy>=1.14.0 in ./.venv/lib/python3.10/site-packages (from category_encoders) (1.26.4)\n",
            "Requirement already satisfied: scikit-learn>=0.20.0 in ./.venv/lib/python3.10/site-packages (from category_encoders) (1.4.2)\n",
            "Requirement already satisfied: scipy>=1.0.0 in ./.venv/lib/python3.10/site-packages (from category_encoders) (1.13.0)\n",
            "Requirement already satisfied: statsmodels>=0.9.0 in ./.venv/lib/python3.10/site-packages (from category_encoders) (0.14.2)\n",
            "Requirement already satisfied: pandas>=1.0.5 in ./.venv/lib/python3.10/site-packages (from category_encoders) (2.2.2)\n",
            "Requirement already satisfied: patsy>=0.5.1 in ./.venv/lib/python3.10/site-packages (from category_encoders) (0.5.6)\n",
            "Requirement already satisfied: python-dateutil>=2.8.2 in ./.venv/lib/python3.10/site-packages (from pandas>=1.0.5->category_encoders) (2.9.0.post0)\n",
            "Requirement already satisfied: pytz>=2020.1 in ./.venv/lib/python3.10/site-packages (from pandas>=1.0.5->category_encoders) (2024.1)\n",
            "Requirement already satisfied: tzdata>=2022.7 in ./.venv/lib/python3.10/site-packages (from pandas>=1.0.5->category_encoders) (2024.1)\n",
            "Requirement already satisfied: six in ./.venv/lib/python3.10/site-packages (from patsy>=0.5.1->category_encoders) (1.16.0)\n",
            "Requirement already satisfied: joblib>=1.2.0 in ./.venv/lib/python3.10/site-packages (from scikit-learn>=0.20.0->category_encoders) (1.4.2)\n",
            "Requirement already satisfied: threadpoolctl>=2.0.0 in ./.venv/lib/python3.10/site-packages (from scikit-learn>=0.20.0->category_encoders) (3.5.0)\n",
            "Requirement already satisfied: packaging>=21.3 in ./.venv/lib/python3.10/site-packages (from statsmodels>=0.9.0->category_encoders) (24.0)\n"
          ]
        }
      ],
      "source": [
        "! pip install category_encoders"
      ]
    },
    {
      "cell_type": "code",
      "execution_count": 53,
      "metadata": {
        "id": "8TWOpl-fqNcP"
      },
      "outputs": [],
      "source": [
        "import numpy as np\n",
        "import pandas as pd\n",
        "import matplotlib.pyplot as plt\n",
        "import xgboost as xgb\n",
        "from sklearn.model_selection import train_test_split, GridSearchCV, KFold\n",
        "from sklearn.preprocessing import StandardScaler\n",
        "from sklearn.decomposition import PCA\n",
        "from sklearn.linear_model import LinearRegression, Ridge, Lasso\n",
        "from sklearn.metrics import make_scorer, mean_squared_error, r2_score\n",
        "from sklearn.ensemble import RandomForestRegressor\n",
        "from sklearn.tree import DecisionTreeRegressor\n",
        "from category_encoders import BinaryEncoder\n",
        "from sklearn.dummy import DummyRegressor"
      ]
    },
    {
      "cell_type": "code",
      "execution_count": 54,
      "metadata": {
        "id": "_jSrGRFwqNcV"
      },
      "outputs": [],
      "source": [
        "df = pd.read_csv(filepath_or_buffer='rome_listings_aftereda.csv')"
      ]
    },
    {
      "cell_type": "code",
      "execution_count": 55,
      "metadata": {
        "colab": {
          "base_uri": "https://localhost:8080/"
        },
        "id": "U6q7m5CPlEEg",
        "outputId": "9009d0f4-037c-4ff8-b977-d31791c40c4d"
      },
      "outputs": [
        {
          "data": {
            "text/plain": [
              "(22817, 10)"
            ]
          },
          "execution_count": 55,
          "metadata": {},
          "output_type": "execute_result"
        }
      ],
      "source": [
        "df.shape"
      ]
    },
    {
      "cell_type": "code",
      "execution_count": 56,
      "metadata": {
        "colab": {
          "base_uri": "https://localhost:8080/"
        },
        "id": "gHV5zaQjlEEg",
        "outputId": "5555e3a9-ee11-45ab-f18b-71872addec21"
      },
      "outputs": [
        {
          "data": {
            "text/plain": [
              "Index(['neighbourhood_cleansed', 'longitude', 'property_type', 'room_type',\n",
              "       'accommodates', 'bathrooms', 'bedrooms', 'beds', 'bathrooms_shared',\n",
              "       'logprice'],\n",
              "      dtype='object')"
            ]
          },
          "execution_count": 56,
          "metadata": {},
          "output_type": "execute_result"
        }
      ],
      "source": [
        "df.columns"
      ]
    },
    {
      "cell_type": "code",
      "execution_count": 57,
      "metadata": {
        "id": "wCNosG4vqNcW"
      },
      "outputs": [],
      "source": [
        "## One Hot encoding for room_type\n",
        "df = pd.get_dummies(df, columns=['room_type'], prefix='room_type')\n",
        "df = pd.get_dummies(df, columns=['neighbourhood_cleansed'], prefix='neighbourhood')"
      ]
    },
    {
      "cell_type": "code",
      "execution_count": 58,
      "metadata": {
        "id": "jtLurcPoqNcc"
      },
      "outputs": [],
      "source": [
        "## convert boolean columns to int\n",
        "bool_cols = df.columns[df.dtypes == 'bool']\n",
        "df[bool_cols] = df[bool_cols].astype(int)"
      ]
    },
    {
      "cell_type": "code",
      "execution_count": 59,
      "metadata": {
        "id": "1fqDDvupqNcc"
      },
      "outputs": [],
      "source": [
        "binary_encoder = BinaryEncoder()\n",
        "binary_encoder.fit_transform(df['property_type'])\n",
        "# Create a DataFrame with the new columns\n",
        "new_columns = pd.DataFrame(binary_encoder.transform(df['property_type']), columns=binary_encoder.get_feature_names_out())\n",
        "\n",
        "# Concatenate the new columns with the original dataset\n",
        "df = pd.concat([df, new_columns], axis=1)\n",
        "df.drop(columns=['property_type'], inplace=True)"
      ]
    },
    {
      "cell_type": "code",
      "execution_count": 60,
      "metadata": {
        "id": "_EO01OgzqNcd"
      },
      "outputs": [],
      "source": [
        "price = df.pop('logprice')"
      ]
    },
    {
      "cell_type": "code",
      "execution_count": 61,
      "metadata": {},
      "outputs": [
        {
          "data": {
            "text/plain": [
              "<Axes: >"
            ]
          },
          "execution_count": 61,
          "metadata": {},
          "output_type": "execute_result"
        },
        {
          "data": {
            "image/png": "[encoded data removed]",
            "text/plain": [
              "<Figure size 640x480 with 1 Axes>"
            ]
          },
          "metadata": {},
          "output_type": "display_data"
        }
      ],
      "source": [
        "price.hist()"
      ]
    },
    {
      "cell_type": "code",
      "execution_count": 62,
      "metadata": {
        "colab": {
          "base_uri": "https://localhost:8080/"
        },
        "id": "Ag8RcUsiqNcj",
        "outputId": "cac73748-32a1-4021-9b8e-f5da3a1ad2c6"
      },
      "outputs": [
        {
          "data": {
            "text/plain": [
              "Index(['longitude', 'accommodates', 'bathrooms', 'bedrooms', 'beds',\n",
              "       'bathrooms_shared', 'room_type_Entire home/apt', 'room_type_Hotel room',\n",
              "       'room_type_Private room', 'room_type_Shared room',\n",
              "       'neighbourhood_I Centro Storico', 'neighbourhood_II Parioli/Nomentano',\n",
              "       'neighbourhood_III Monte Sacro', 'neighbourhood_IV Tiburtina',\n",
              "       'neighbourhood_IX Eur', 'neighbourhood_V Prenestino/Centocelle',\n",
              "       'neighbourhood_VI Roma delle Torri',\n",
              "       'neighbourhood_VII San Giovanni/Cinecittà',\n",
              "       'neighbourhood_VIII Appia Antica', 'neighbourhood_X Ostia/Acilia',\n",
              "       'neighbourhood_XI Arvalia/Portuense', 'neighbourhood_XII Monte Verde',\n",
              "       'neighbourhood_XIII Aurelia', 'neighbourhood_XIV Monte Mario',\n",
              "       'neighbourhood_XV Cassia/Flaminia', 'property_type_0',\n",
              "       'property_type_1', 'property_type_2', 'property_type_3',\n",
              "       'property_type_4', 'property_type_5'],\n",
              "      dtype='object')"
            ]
          },
          "execution_count": 62,
          "metadata": {},
          "output_type": "execute_result"
        }
      ],
      "source": [
        "df.columns"
      ]
    },
    {
      "cell_type": "code",
      "execution_count": 63,
      "metadata": {
        "id": "VwK34L6JqNcm"
      },
      "outputs": [],
      "source": [
        "X_train, X_test, y_train, y_test = train_test_split(df, price, test_size=0.3, random_state=42, shuffle=True)"
      ]
    },
    {
      "cell_type": "code",
      "execution_count": 64,
      "metadata": {
        "id": "FYCMDYzswb3U"
      },
      "outputs": [],
      "source": [
        "columns_to_standardize = ['accommodates', 'bathrooms', 'bedrooms', 'beds']\n",
        "scaler = StandardScaler()\n",
        "X_train[columns_to_standardize] = scaler.fit_transform(X_train[columns_to_standardize])\n",
        "X_test[columns_to_standardize] = scaler.transform(X_test[columns_to_standardize])"
      ]
    },
    {
      "cell_type": "code",
      "execution_count": 65,
      "metadata": {
        "colab": {
          "base_uri": "https://localhost:8080/",
          "height": 834
        },
        "id": "dXk_cBfXALJN",
        "outputId": "1e4464a9-46f4-4df1-9a2b-9fe3b0d378e3"
      },
      "outputs": [
        {
          "data": {
            "image/png": "[encoded data removed]",
            "text/plain": [
              "<Figure size 1000x500 with 1 Axes>"
            ]
          },
          "metadata": {},
          "output_type": "display_data"
        },
        {
          "name": "stdout",
          "output_type": "stream",
          "text": [
            "Number of components chosen: 14\n"
          ]
        }
      ],
      "source": [
        "# Step 3: Perform PCA\n",
        "threshold = 0.95\n",
        "pca = PCA().fit(X_train)\n",
        "\n",
        "# Step 4: Calculate explained variance\n",
        "cumulative_variance = np.cumsum(pca.explained_variance_ratio_)\n",
        "\n",
        "# Step 5: Plot the cumulative explained variance\n",
        "plt.figure(figsize=(10, 5))\n",
        "plt.plot(range(1, len(cumulative_variance) + 1), cumulative_variance, marker='o', linestyle='--')\n",
        "plt.axhline(y=threshold, color='r', linestyle='-')\n",
        "n_components = np.argmax(cumulative_variance >= threshold) + 1\n",
        "plt.axvline(x=n_components, color='b', linestyle='--')\n",
        "\n",
        "# Annotations\n",
        "plt.annotate(f'{n_components} Components',\n",
        "             xy=(n_components, threshold),\n",
        "             xytext=(n_components + 2, threshold - 0.1),\n",
        "             arrowprops=dict(facecolor='black', arrowstyle='->'),\n",
        "             fontsize=10)\n",
        "plt.text(n_components, 0.02, f'{n_components}', color='blue', ha='center', fontsize=12)\n",
        "plt.scatter(n_components, threshold, color='red', zorder=5)\n",
        "\n",
        "# Labels and title\n",
        "plt.title('Cumulative Explained Variance')\n",
        "plt.xlabel('Number of Components')\n",
        "plt.ylabel('Cumulative Explained Variance')\n",
        "plt.grid()\n",
        "plt.show()\n",
        "\n",
        "print(f\"Number of components chosen: {n_components}\")"
      ]
    },
    {
      "cell_type": "code",
      "execution_count": 66,
      "metadata": {
        "id": "ySit9LazqNcv"
      },
      "outputs": [],
      "source": [
        "pca = PCA(n_components=n_components)\n",
        "X_train_transform = pca.fit_transform(X_train)\n",
        "X_test_transform = pca.transform(X_test)"
      ]
    },
    {
      "cell_type": "code",
      "execution_count": 67,
      "metadata": {
        "colab": {
          "base_uri": "https://localhost:8080/"
        },
        "id": "ufyWxQ0_nS4S",
        "outputId": "76718b1f-5b84-4ed7-bef9-2be92d9cd741"
      },
      "outputs": [
        {
          "data": {
            "text/plain": [
              "(15971, 14)"
            ]
          },
          "execution_count": 67,
          "metadata": {},
          "output_type": "execute_result"
        }
      ],
      "source": [
        "X_train_transform.shape"
      ]
    },
    {
      "cell_type": "code",
      "execution_count": 68,
      "metadata": {
        "colab": {
          "base_uri": "https://localhost:8080/"
        },
        "id": "JMR6OJF-qNcv",
        "outputId": "a9a5754a-e445-4f05-f3b1-a7c00d23f19b"
      },
      "outputs": [
        {
          "name": "stdout",
          "output_type": "stream",
          "text": [
            "Best mean squared error:  0.21730884923688992\n"
          ]
        }
      ],
      "source": [
        "# Linear Regression\n",
        "param_grid = {}\n",
        "scoring = make_scorer(mean_squared_error, greater_is_better=False)\n",
        "model = LinearRegression()\n",
        "grid_search_linreg = GridSearchCV(\n",
        "    estimator=model,\n",
        "    param_grid=param_grid,\n",
        "    scoring=scoring,\n",
        "    cv=KFold(5, random_state=2, shuffle=True),\n",
        "    n_jobs=-1\n",
        ")\n",
        "grid_search_linreg.fit(X_train_transform, y_train)\n",
        "# print(\"Best parameters found: \", grid_search_linreg.best_params_)\n",
        "print(\"Best mean squared error: \", -grid_search_linreg.best_score_)"
      ]
    },
    {
      "cell_type": "code",
      "execution_count": 69,
      "metadata": {
        "colab": {
          "base_uri": "https://localhost:8080/"
        },
        "id": "HZYyqNtD7m7t",
        "outputId": "b568a3d6-ae1b-451b-d201-15c9a66cd7e8"
      },
      "outputs": [
        {
          "name": "stdout",
          "output_type": "stream",
          "text": [
            "Best parameters found:  {'alpha': 2.656087782946689}\n",
            "Best mean squared error:  0.21206892887488146\n"
          ]
        }
      ],
      "source": [
        "# Ridge Regression\n",
        "alphas = np.logspace(-6, 6, 100, base=10)\n",
        "param_grid = {'alpha': alphas}\n",
        "scoring = make_scorer(mean_squared_error, greater_is_better=False)\n",
        "model = Ridge()\n",
        "grid_search_ridge = GridSearchCV(\n",
        "    estimator=model,\n",
        "    param_grid=param_grid,\n",
        "    scoring=scoring,\n",
        "    cv=KFold(5, random_state=2, shuffle=True),\n",
        "    n_jobs=-1\n",
        ")\n",
        "grid_search_ridge.fit(X_train, y_train)\n",
        "print(\"Best parameters found: \", grid_search_ridge.best_params_)\n",
        "print(\"Best mean squared error: \", -grid_search_ridge.best_score_)\n"
      ]
    },
    {
      "cell_type": "code",
      "execution_count": 70,
      "metadata": {
        "colab": {
          "base_uri": "https://localhost:8080/"
        },
        "id": "SMh5EbljBcMf",
        "outputId": "753f0001-dad7-4274-8469-6ed45823b498"
      },
      "outputs": [
        {
          "name": "stderr",
          "output_type": "stream",
          "text": [
            "/home/lorenzobonanni/Desktop/UNI/MAGISTRALE/STATISTICAL LEARNING/PROGETTO/.venv/lib/python3.10/site-packages/sklearn/linear_model/_coordinate_descent.py:678: ConvergenceWarning: Objective did not converge. You might want to increase the number of iterations, check the scale of the features or consider increasing regularisation. Duality gap: 6.406e+02, tolerance: 5.154e-01\n",
            "  model = cd_fast.enet_coordinate_descent(\n",
            "/home/lorenzobonanni/Desktop/UNI/MAGISTRALE/STATISTICAL LEARNING/PROGETTO/.venv/lib/python3.10/site-packages/sklearn/linear_model/_coordinate_descent.py:678: ConvergenceWarning: Objective did not converge. You might want to increase the number of iterations, check the scale of the features or consider increasing regularisation. Duality gap: 6.293e+02, tolerance: 5.095e-01\n",
            "  model = cd_fast.enet_coordinate_descent(\n",
            "/home/lorenzobonanni/Desktop/UNI/MAGISTRALE/STATISTICAL LEARNING/PROGETTO/.venv/lib/python3.10/site-packages/sklearn/linear_model/_coordinate_descent.py:678: ConvergenceWarning: Objective did not converge. You might want to increase the number of iterations, check the scale of the features or consider increasing regularisation. Duality gap: 6.309e+02, tolerance: 5.169e-01\n",
            "  model = cd_fast.enet_coordinate_descent(\n",
            "/home/lorenzobonanni/Desktop/UNI/MAGISTRALE/STATISTICAL LEARNING/PROGETTO/.venv/lib/python3.10/site-packages/sklearn/linear_model/_coordinate_descent.py:678: ConvergenceWarning: Objective did not converge. You might want to increase the number of iterations, check the scale of the features or consider increasing regularisation. Duality gap: 6.309e+02, tolerance: 5.169e-01\n",
            "  model = cd_fast.enet_coordinate_descent(\n",
            "/home/lorenzobonanni/Desktop/UNI/MAGISTRALE/STATISTICAL LEARNING/PROGETTO/.venv/lib/python3.10/site-packages/sklearn/linear_model/_coordinate_descent.py:678: ConvergenceWarning: Objective did not converge. You might want to increase the number of iterations, check the scale of the features or consider increasing regularisation. Duality gap: 6.418e+02, tolerance: 5.167e-01\n",
            "  model = cd_fast.enet_coordinate_descent(\n",
            "/home/lorenzobonanni/Desktop/UNI/MAGISTRALE/STATISTICAL LEARNING/PROGETTO/.venv/lib/python3.10/site-packages/sklearn/linear_model/_coordinate_descent.py:678: ConvergenceWarning: Objective did not converge. You might want to increase the number of iterations, check the scale of the features or consider increasing regularisation. Duality gap: 6.418e+02, tolerance: 5.167e-01\n",
            "  model = cd_fast.enet_coordinate_descent(\n",
            "/home/lorenzobonanni/Desktop/UNI/MAGISTRALE/STATISTICAL LEARNING/PROGETTO/.venv/lib/python3.10/site-packages/sklearn/linear_model/_coordinate_descent.py:678: ConvergenceWarning: Objective did not converge. You might want to increase the number of iterations, check the scale of the features or consider increasing regularisation. Duality gap: 6.268e+02, tolerance: 5.065e-01\n",
            "  model = cd_fast.enet_coordinate_descent(\n",
            "/home/lorenzobonanni/Desktop/UNI/MAGISTRALE/STATISTICAL LEARNING/PROGETTO/.venv/lib/python3.10/site-packages/sklearn/linear_model/_coordinate_descent.py:678: ConvergenceWarning: Objective did not converge. You might want to increase the number of iterations, check the scale of the features or consider increasing regularisation. Duality gap: 6.293e+02, tolerance: 5.095e-01\n",
            "  model = cd_fast.enet_coordinate_descent(\n",
            "/home/lorenzobonanni/Desktop/UNI/MAGISTRALE/STATISTICAL LEARNING/PROGETTO/.venv/lib/python3.10/site-packages/sklearn/linear_model/_coordinate_descent.py:678: ConvergenceWarning: Objective did not converge. You might want to increase the number of iterations, check the scale of the features or consider increasing regularisation. Duality gap: 6.293e+02, tolerance: 5.095e-01\n",
            "  model = cd_fast.enet_coordinate_descent(\n",
            "/home/lorenzobonanni/Desktop/UNI/MAGISTRALE/STATISTICAL LEARNING/PROGETTO/.venv/lib/python3.10/site-packages/sklearn/linear_model/_coordinate_descent.py:678: ConvergenceWarning: Objective did not converge. You might want to increase the number of iterations, check the scale of the features or consider increasing regularisation. Duality gap: 6.406e+02, tolerance: 5.154e-01\n",
            "  model = cd_fast.enet_coordinate_descent(\n",
            "/home/lorenzobonanni/Desktop/UNI/MAGISTRALE/STATISTICAL LEARNING/PROGETTO/.venv/lib/python3.10/site-packages/sklearn/linear_model/_coordinate_descent.py:678: ConvergenceWarning: Objective did not converge. You might want to increase the number of iterations, check the scale of the features or consider increasing regularisation. Duality gap: 6.418e+02, tolerance: 5.167e-01\n",
            "  model = cd_fast.enet_coordinate_descent(\n",
            "/home/lorenzobonanni/Desktop/UNI/MAGISTRALE/STATISTICAL LEARNING/PROGETTO/.venv/lib/python3.10/site-packages/sklearn/linear_model/_coordinate_descent.py:678: ConvergenceWarning: Objective did not converge. You might want to increase the number of iterations, check the scale of the features or consider increasing regularisation. Duality gap: 6.293e+02, tolerance: 5.095e-01\n",
            "  model = cd_fast.enet_coordinate_descent(\n",
            "/home/lorenzobonanni/Desktop/UNI/MAGISTRALE/STATISTICAL LEARNING/PROGETTO/.venv/lib/python3.10/site-packages/sklearn/linear_model/_coordinate_descent.py:678: ConvergenceWarning: Objective did not converge. You might want to increase the number of iterations, check the scale of the features or consider increasing regularisation. Duality gap: 6.309e+02, tolerance: 5.169e-01\n",
            "  model = cd_fast.enet_coordinate_descent(\n",
            "/home/lorenzobonanni/Desktop/UNI/MAGISTRALE/STATISTICAL LEARNING/PROGETTO/.venv/lib/python3.10/site-packages/sklearn/linear_model/_coordinate_descent.py:678: ConvergenceWarning: Objective did not converge. You might want to increase the number of iterations, check the scale of the features or consider increasing regularisation. Duality gap: 6.268e+02, tolerance: 5.065e-01\n",
            "  model = cd_fast.enet_coordinate_descent(\n",
            "/home/lorenzobonanni/Desktop/UNI/MAGISTRALE/STATISTICAL LEARNING/PROGETTO/.venv/lib/python3.10/site-packages/sklearn/linear_model/_coordinate_descent.py:678: ConvergenceWarning: Objective did not converge. You might want to increase the number of iterations, check the scale of the features or consider increasing regularisation. Duality gap: 6.406e+02, tolerance: 5.154e-01\n",
            "  model = cd_fast.enet_coordinate_descent(\n",
            "/home/lorenzobonanni/Desktop/UNI/MAGISTRALE/STATISTICAL LEARNING/PROGETTO/.venv/lib/python3.10/site-packages/sklearn/linear_model/_coordinate_descent.py:678: ConvergenceWarning: Objective did not converge. You might want to increase the number of iterations, check the scale of the features or consider increasing regularisation. Duality gap: 6.268e+02, tolerance: 5.065e-01\n",
            "  model = cd_fast.enet_coordinate_descent(\n",
            "/home/lorenzobonanni/Desktop/UNI/MAGISTRALE/STATISTICAL LEARNING/PROGETTO/.venv/lib/python3.10/site-packages/sklearn/linear_model/_coordinate_descent.py:678: ConvergenceWarning: Objective did not converge. You might want to increase the number of iterations, check the scale of the features or consider increasing regularisation. Duality gap: 6.418e+02, tolerance: 5.167e-01\n",
            "  model = cd_fast.enet_coordinate_descent(\n",
            "/home/lorenzobonanni/Desktop/UNI/MAGISTRALE/STATISTICAL LEARNING/PROGETTO/.venv/lib/python3.10/site-packages/sklearn/linear_model/_coordinate_descent.py:678: ConvergenceWarning: Objective did not converge. You might want to increase the number of iterations, check the scale of the features or consider increasing regularisation. Duality gap: 6.310e+02, tolerance: 5.169e-01\n",
            "  model = cd_fast.enet_coordinate_descent(\n",
            "/home/lorenzobonanni/Desktop/UNI/MAGISTRALE/STATISTICAL LEARNING/PROGETTO/.venv/lib/python3.10/site-packages/sklearn/linear_model/_coordinate_descent.py:678: ConvergenceWarning: Objective did not converge. You might want to increase the number of iterations, check the scale of the features or consider increasing regularisation. Duality gap: 6.406e+02, tolerance: 5.154e-01\n",
            "  model = cd_fast.enet_coordinate_descent(\n",
            "/home/lorenzobonanni/Desktop/UNI/MAGISTRALE/STATISTICAL LEARNING/PROGETTO/.venv/lib/python3.10/site-packages/sklearn/linear_model/_coordinate_descent.py:678: ConvergenceWarning: Objective did not converge. You might want to increase the number of iterations, check the scale of the features or consider increasing regularisation. Duality gap: 6.293e+02, tolerance: 5.095e-01\n",
            "  model = cd_fast.enet_coordinate_descent(\n",
            "/home/lorenzobonanni/Desktop/UNI/MAGISTRALE/STATISTICAL LEARNING/PROGETTO/.venv/lib/python3.10/site-packages/sklearn/linear_model/_coordinate_descent.py:678: ConvergenceWarning: Objective did not converge. You might want to increase the number of iterations, check the scale of the features or consider increasing regularisation. Duality gap: 6.268e+02, tolerance: 5.065e-01\n",
            "  model = cd_fast.enet_coordinate_descent(\n",
            "/home/lorenzobonanni/Desktop/UNI/MAGISTRALE/STATISTICAL LEARNING/PROGETTO/.venv/lib/python3.10/site-packages/sklearn/linear_model/_coordinate_descent.py:678: ConvergenceWarning: Objective did not converge. You might want to increase the number of iterations, check the scale of the features or consider increasing regularisation. Duality gap: 6.418e+02, tolerance: 5.167e-01\n",
            "  model = cd_fast.enet_coordinate_descent(\n",
            "/home/lorenzobonanni/Desktop/UNI/MAGISTRALE/STATISTICAL LEARNING/PROGETTO/.venv/lib/python3.10/site-packages/sklearn/linear_model/_coordinate_descent.py:678: ConvergenceWarning: Objective did not converge. You might want to increase the number of iterations, check the scale of the features or consider increasing regularisation. Duality gap: 6.310e+02, tolerance: 5.169e-01\n",
            "  model = cd_fast.enet_coordinate_descent(\n",
            "/home/lorenzobonanni/Desktop/UNI/MAGISTRALE/STATISTICAL LEARNING/PROGETTO/.venv/lib/python3.10/site-packages/sklearn/linear_model/_coordinate_descent.py:678: ConvergenceWarning: Objective did not converge. You might want to increase the number of iterations, check the scale of the features or consider increasing regularisation. Duality gap: 6.268e+02, tolerance: 5.065e-01\n",
            "  model = cd_fast.enet_coordinate_descent(\n",
            "/home/lorenzobonanni/Desktop/UNI/MAGISTRALE/STATISTICAL LEARNING/PROGETTO/.venv/lib/python3.10/site-packages/sklearn/linear_model/_coordinate_descent.py:678: ConvergenceWarning: Objective did not converge. You might want to increase the number of iterations, check the scale of the features or consider increasing regularisation. Duality gap: 6.406e+02, tolerance: 5.154e-01\n",
            "  model = cd_fast.enet_coordinate_descent(\n",
            "/home/lorenzobonanni/Desktop/UNI/MAGISTRALE/STATISTICAL LEARNING/PROGETTO/.venv/lib/python3.10/site-packages/sklearn/linear_model/_coordinate_descent.py:678: ConvergenceWarning: Objective did not converge. You might want to increase the number of iterations, check the scale of the features or consider increasing regularisation. Duality gap: 6.310e+02, tolerance: 5.169e-01\n",
            "  model = cd_fast.enet_coordinate_descent(\n",
            "/home/lorenzobonanni/Desktop/UNI/MAGISTRALE/STATISTICAL LEARNING/PROGETTO/.venv/lib/python3.10/site-packages/sklearn/linear_model/_coordinate_descent.py:678: ConvergenceWarning: Objective did not converge. You might want to increase the number of iterations, check the scale of the features or consider increasing regularisation. Duality gap: 6.269e+02, tolerance: 5.065e-01\n",
            "  model = cd_fast.enet_coordinate_descent(\n",
            "/home/lorenzobonanni/Desktop/UNI/MAGISTRALE/STATISTICAL LEARNING/PROGETTO/.venv/lib/python3.10/site-packages/sklearn/linear_model/_coordinate_descent.py:678: ConvergenceWarning: Objective did not converge. You might want to increase the number of iterations, check the scale of the features or consider increasing regularisation. Duality gap: 6.419e+02, tolerance: 5.167e-01\n",
            "  model = cd_fast.enet_coordinate_descent(\n",
            "/home/lorenzobonanni/Desktop/UNI/MAGISTRALE/STATISTICAL LEARNING/PROGETTO/.venv/lib/python3.10/site-packages/sklearn/linear_model/_coordinate_descent.py:678: ConvergenceWarning: Objective did not converge. You might want to increase the number of iterations, check the scale of the features or consider increasing regularisation. Duality gap: 6.294e+02, tolerance: 5.095e-01\n",
            "  model = cd_fast.enet_coordinate_descent(\n",
            "/home/lorenzobonanni/Desktop/UNI/MAGISTRALE/STATISTICAL LEARNING/PROGETTO/.venv/lib/python3.10/site-packages/sklearn/linear_model/_coordinate_descent.py:678: ConvergenceWarning: Objective did not converge. You might want to increase the number of iterations, check the scale of the features or consider increasing regularisation. Duality gap: 6.407e+02, tolerance: 5.154e-01\n",
            "  model = cd_fast.enet_coordinate_descent(\n",
            "/home/lorenzobonanni/Desktop/UNI/MAGISTRALE/STATISTICAL LEARNING/PROGETTO/.venv/lib/python3.10/site-packages/sklearn/linear_model/_coordinate_descent.py:678: ConvergenceWarning: Objective did not converge. You might want to increase the number of iterations, check the scale of the features or consider increasing regularisation. Duality gap: 6.293e+02, tolerance: 5.095e-01\n",
            "  model = cd_fast.enet_coordinate_descent(\n",
            "/home/lorenzobonanni/Desktop/UNI/MAGISTRALE/STATISTICAL LEARNING/PROGETTO/.venv/lib/python3.10/site-packages/sklearn/linear_model/_coordinate_descent.py:678: ConvergenceWarning: Objective did not converge. You might want to increase the number of iterations, check the scale of the features or consider increasing regularisation. Duality gap: 2.424e+02, tolerance: 5.167e-01\n",
            "  model = cd_fast.enet_coordinate_descent(\n",
            "/home/lorenzobonanni/Desktop/UNI/MAGISTRALE/STATISTICAL LEARNING/PROGETTO/.venv/lib/python3.10/site-packages/sklearn/linear_model/_coordinate_descent.py:678: ConvergenceWarning: Objective did not converge. You might want to increase the number of iterations, check the scale of the features or consider increasing regularisation. Duality gap: 6.311e+02, tolerance: 5.169e-01\n",
            "  model = cd_fast.enet_coordinate_descent(\n",
            "/home/lorenzobonanni/Desktop/UNI/MAGISTRALE/STATISTICAL LEARNING/PROGETTO/.venv/lib/python3.10/site-packages/sklearn/linear_model/_coordinate_descent.py:678: ConvergenceWarning: Objective did not converge. You might want to increase the number of iterations, check the scale of the features or consider increasing regularisation. Duality gap: 6.269e+02, tolerance: 5.065e-01\n",
            "  model = cd_fast.enet_coordinate_descent(\n",
            "/home/lorenzobonanni/Desktop/UNI/MAGISTRALE/STATISTICAL LEARNING/PROGETTO/.venv/lib/python3.10/site-packages/sklearn/linear_model/_coordinate_descent.py:678: ConvergenceWarning: Objective did not converge. You might want to increase the number of iterations, check the scale of the features or consider increasing regularisation. Duality gap: 3.271e+02, tolerance: 5.095e-01\n",
            "  model = cd_fast.enet_coordinate_descent(\n",
            "/home/lorenzobonanni/Desktop/UNI/MAGISTRALE/STATISTICAL LEARNING/PROGETTO/.venv/lib/python3.10/site-packages/sklearn/linear_model/_coordinate_descent.py:678: ConvergenceWarning: Objective did not converge. You might want to increase the number of iterations, check the scale of the features or consider increasing regularisation. Duality gap: 2.424e+02, tolerance: 5.167e-01\n",
            "  model = cd_fast.enet_coordinate_descent(\n",
            "/home/lorenzobonanni/Desktop/UNI/MAGISTRALE/STATISTICAL LEARNING/PROGETTO/.venv/lib/python3.10/site-packages/sklearn/linear_model/_coordinate_descent.py:678: ConvergenceWarning: Objective did not converge. You might want to increase the number of iterations, check the scale of the features or consider increasing regularisation. Duality gap: 6.311e+02, tolerance: 5.169e-01\n",
            "  model = cd_fast.enet_coordinate_descent(\n",
            "/home/lorenzobonanni/Desktop/UNI/MAGISTRALE/STATISTICAL LEARNING/PROGETTO/.venv/lib/python3.10/site-packages/sklearn/linear_model/_coordinate_descent.py:678: ConvergenceWarning: Objective did not converge. You might want to increase the number of iterations, check the scale of the features or consider increasing regularisation. Duality gap: 6.407e+02, tolerance: 5.154e-01\n",
            "  model = cd_fast.enet_coordinate_descent(\n",
            "/home/lorenzobonanni/Desktop/UNI/MAGISTRALE/STATISTICAL LEARNING/PROGETTO/.venv/lib/python3.10/site-packages/sklearn/linear_model/_coordinate_descent.py:678: ConvergenceWarning: Objective did not converge. You might want to increase the number of iterations, check the scale of the features or consider increasing regularisation. Duality gap: 6.705e+00, tolerance: 5.095e-01\n",
            "  model = cd_fast.enet_coordinate_descent(\n",
            "/home/lorenzobonanni/Desktop/UNI/MAGISTRALE/STATISTICAL LEARNING/PROGETTO/.venv/lib/python3.10/site-packages/sklearn/linear_model/_coordinate_descent.py:678: ConvergenceWarning: Objective did not converge. You might want to increase the number of iterations, check the scale of the features or consider increasing regularisation. Duality gap: 6.270e+02, tolerance: 5.065e-01\n",
            "  model = cd_fast.enet_coordinate_descent(\n",
            "/home/lorenzobonanni/Desktop/UNI/MAGISTRALE/STATISTICAL LEARNING/PROGETTO/.venv/lib/python3.10/site-packages/sklearn/linear_model/_coordinate_descent.py:678: ConvergenceWarning: Objective did not converge. You might want to increase the number of iterations, check the scale of the features or consider increasing regularisation. Duality gap: 6.407e+02, tolerance: 5.154e-01\n",
            "  model = cd_fast.enet_coordinate_descent(\n",
            "/home/lorenzobonanni/Desktop/UNI/MAGISTRALE/STATISTICAL LEARNING/PROGETTO/.venv/lib/python3.10/site-packages/sklearn/linear_model/_coordinate_descent.py:678: ConvergenceWarning: Objective did not converge. You might want to increase the number of iterations, check the scale of the features or consider increasing regularisation. Duality gap: 2.362e+02, tolerance: 5.065e-01\n",
            "  model = cd_fast.enet_coordinate_descent(\n",
            "/home/lorenzobonanni/Desktop/UNI/MAGISTRALE/STATISTICAL LEARNING/PROGETTO/.venv/lib/python3.10/site-packages/sklearn/linear_model/_coordinate_descent.py:678: ConvergenceWarning: Objective did not converge. You might want to increase the number of iterations, check the scale of the features or consider increasing regularisation. Duality gap: 9.828e+01, tolerance: 5.154e-01\n",
            "  model = cd_fast.enet_coordinate_descent(\n",
            "/home/lorenzobonanni/Desktop/UNI/MAGISTRALE/STATISTICAL LEARNING/PROGETTO/.venv/lib/python3.10/site-packages/sklearn/linear_model/_coordinate_descent.py:678: ConvergenceWarning: Objective did not converge. You might want to increase the number of iterations, check the scale of the features or consider increasing regularisation. Duality gap: 2.377e+02, tolerance: 5.169e-01\n",
            "  model = cd_fast.enet_coordinate_descent(\n",
            "/home/lorenzobonanni/Desktop/UNI/MAGISTRALE/STATISTICAL LEARNING/PROGETTO/.venv/lib/python3.10/site-packages/sklearn/linear_model/_coordinate_descent.py:678: ConvergenceWarning: Objective did not converge. You might want to increase the number of iterations, check the scale of the features or consider increasing regularisation. Duality gap: 2.425e+02, tolerance: 5.167e-01\n",
            "  model = cd_fast.enet_coordinate_descent(\n",
            "/home/lorenzobonanni/Desktop/UNI/MAGISTRALE/STATISTICAL LEARNING/PROGETTO/.venv/lib/python3.10/site-packages/sklearn/linear_model/_coordinate_descent.py:678: ConvergenceWarning: Objective did not converge. You might want to increase the number of iterations, check the scale of the features or consider increasing regularisation. Duality gap: 2.425e+02, tolerance: 5.167e-01\n",
            "  model = cd_fast.enet_coordinate_descent(\n",
            "/home/lorenzobonanni/Desktop/UNI/MAGISTRALE/STATISTICAL LEARNING/PROGETTO/.venv/lib/python3.10/site-packages/sklearn/linear_model/_coordinate_descent.py:678: ConvergenceWarning: Objective did not converge. You might want to increase the number of iterations, check the scale of the features or consider increasing regularisation. Duality gap: 2.426e+02, tolerance: 5.167e-01\n",
            "  model = cd_fast.enet_coordinate_descent(\n",
            "/home/lorenzobonanni/Desktop/UNI/MAGISTRALE/STATISTICAL LEARNING/PROGETTO/.venv/lib/python3.10/site-packages/sklearn/linear_model/_coordinate_descent.py:678: ConvergenceWarning: Objective did not converge. You might want to increase the number of iterations, check the scale of the features or consider increasing regularisation. Duality gap: 2.427e+02, tolerance: 5.167e-01\n",
            "  model = cd_fast.enet_coordinate_descent(\n"
          ]
        },
        {
          "name": "stdout",
          "output_type": "stream",
          "text": [
            "Best parameters found:  {'alpha': 4.977023564332114e-05}\n",
            "Best mean squared error:  0.21207169826711417\n"
          ]
        }
      ],
      "source": [
        "# Lasso\n",
        "alphas = np.logspace(-6, 6, 100, base=10)\n",
        "param_grid = {'alpha': alphas}\n",
        "model = Lasso()\n",
        "grid_search_lasso = GridSearchCV(\n",
        "    estimator=model,\n",
        "    param_grid=param_grid,\n",
        "    scoring=scoring,\n",
        "    cv=KFold(5, random_state=2, shuffle=True),\n",
        "    n_jobs=-1\n",
        ")\n",
        "grid_search_lasso.fit(X_train, y_train)\n",
        "print(\"Best parameters found: \", grid_search_lasso.best_params_)\n",
        "print(\"Best mean squared error: \", -grid_search_lasso.best_score_)"
      ]
    },
    {
      "cell_type": "code",
      "execution_count": 71,
      "metadata": {
        "colab": {
          "base_uri": "https://localhost:8080/"
        },
        "id": "kvkIk6-xlEEl",
        "outputId": "2fa3cf97-03f5-4061-e396-5621f8da382a"
      },
      "outputs": [
        {
          "name": "stdout",
          "output_type": "stream",
          "text": [
            "Fitting 5 folds for each of 2430 candidates, totalling 12150 fits\n",
            "Best parameters found:  {'ccp_alpha': 0.0, 'max_depth': 10, 'max_features': None, 'min_impurity_decrease': 0.0, 'min_samples_leaf': 4, 'min_samples_split': 10, 'random_state': 2, 'splitter': 'random'}\n",
            "Best mean squared error:  0.2107166101082211\n"
          ]
        }
      ],
      "source": [
        "# Decision Tree\n",
        "param_grid = param_grid = {\n",
        "    'splitter': ['best', 'random'],\n",
        "    'max_depth': [None, 5, 10, 15, 20],\n",
        "    'min_samples_split': [2, 5, 10],\n",
        "    'min_samples_leaf': [1, 2, 4],\n",
        "    'max_features': [None, 'sqrt', 'log2'],\n",
        "    'min_impurity_decrease': [0.0, 0.1, 0.2],\n",
        "    'ccp_alpha': [0.0, 0.1, 0.2],\n",
        "    'random_state': [2]  # Adjust this according to your needs\n",
        "}\n",
        "model = DecisionTreeRegressor()\n",
        "grid_search_dt = GridSearchCV(\n",
        "    estimator=model,\n",
        "    param_grid=param_grid,\n",
        "    scoring=scoring,\n",
        "    cv=KFold(5, random_state=2, shuffle=True),\n",
        "    n_jobs=-1,\n",
        "    verbose=1\n",
        ")\n",
        "grid_search_dt.fit(X_train, y_train)\n",
        "print(\"Best parameters found: \", grid_search_dt.best_params_)\n",
        "print(\"Best mean squared error: \", -grid_search_dt.best_score_)"
      ]
    },
    {
      "cell_type": "code",
      "execution_count": 72,
      "metadata": {
        "colab": {
          "base_uri": "https://localhost:8080/",
          "height": 373
        },
        "id": "O0Ac2J6TFRk2",
        "outputId": "fc560078-7f30-4a11-fc86-16506f200e0f"
      },
      "outputs": [
        {
          "name": "stdout",
          "output_type": "stream",
          "text": [
            "Fitting 5 folds for each of 432 candidates, totalling 2160 fits\n"
          ]
        }
      ],
      "source": [
        "# Random Forest\n",
        "param_grid = param_grid = {\n",
        "    'n_estimators': [100, 200, 300],\n",
        "    'max_features': ['sqrt', 'log2'],\n",
        "    'max_depth': [10, 20, 30, None],\n",
        "    'min_samples_split': [2, 5, 10],\n",
        "    'min_samples_leaf': [1, 2, 4],\n",
        "    'bootstrap': [True, False]\n",
        "}\n",
        "model = RandomForestRegressor()\n",
        "grid_search_rf = GridSearchCV(\n",
        "    estimator=model,\n",
        "    param_grid=param_grid,\n",
        "    scoring=scoring,\n",
        "    cv=KFold(5, random_state=2, shuffle=True),\n",
        "    n_jobs=-1,\n",
        "    verbose=1\n",
        ")\n",
        "grid_search_rf.fit(X_train, y_train)\n",
        "print(\"Best parameters found: \", grid_search_rf.best_params_)\n",
        "print(\"Best mean squared error: \", -grid_search_rf.best_score_)"
      ]
    },
    {
      "cell_type": "code",
      "execution_count": null,
      "metadata": {
        "id": "GYHbeoxylEEl"
      },
      "outputs": [],
      "source": [
        "# XGBoost\n",
        "param_grid = param_grid = {\n",
        "    'n_estimators': [100, 200, 300],\n",
        "    'learning_rate': [0.01, 0.1, 0.2],\n",
        "}\n",
        "model = xgb.XGBRegressor(random_state=2)\n",
        "grid_search_xgb = GridSearchCV(\n",
        "    estimator=model,\n",
        "    param_grid=param_grid,\n",
        "    scoring=scoring,\n",
        "    cv=KFold(5, random_state=2, shuffle=True),\n",
        "    n_jobs=-1\n",
        ")\n",
        "grid_search_xgb.fit(X_train, y_train)\n",
        "print(\"Best parameters found: \", grid_search_xgb.best_params_)\n",
        "print(\"Best mean squared error: \", -grid_search_xgb.best_score_)"
      ]
    },
    {
      "cell_type": "code",
      "execution_count": null,
      "metadata": {
        "id": "ENUw_s76lEEm"
      },
      "outputs": [],
      "source": [
        "dummy_reg_mean = DummyRegressor(strategy='mean')\n",
        "dummy_reg_mean.fit(X_train, y_train)"
      ]
    },
    {
      "cell_type": "code",
      "execution_count": null,
      "metadata": {
        "id": "kIBoo4KolEEm"
      },
      "outputs": [],
      "source": [
        "# Evaluate the best model\n",
        "performance = {}\n",
        "trained = {\n",
        "    'Ridge': grid_search_ridge.best_estimator_,\n",
        "    'Lasso': grid_search_lasso.best_estimator_,\n",
        "    'DecisionTree': grid_search_dt.best_estimator_,\n",
        "    'RandomForest': grid_search_rf.best_estimator_,\n",
        "    'XGBoost': grid_search_xgb.best_estimator_,\n",
        "    'Dummy_mean': dummy_reg_mean\n",
        "}\n",
        "for name, model in trained.items():\n",
        "    predictions = model.predict(X_test)\n",
        "    mse = mean_squared_error(np.exp(y_test), np.exp(predictions))\n",
        "    rmse = np.sqrt(mse)\n",
        "    r_squared = r2_score(np.exp(y_test), np.exp(predictions))\n",
        "    performance[name] = mse\n",
        "    print(f\"{name} mean squared error: {mse}\", f\"root mean squared error: {rmse}\", f\"R^2: {r_squared}\")"
      ]
    },
    {
      "cell_type": "code",
      "execution_count": null,
      "metadata": {
        "id": "yKCG2kYdlEEm"
      },
      "outputs": [],
      "source": [
        "model = grid_search_linreg.best_estimator_\n",
        "name = \"Linear Regression\"\n",
        "X_test_transform = pca.transform(X_test)\n",
        "predictions = model.predict(X_test_transform)\n",
        "mse = mean_squared_error(np.exp(y_test), np.exp(predictions))\n",
        "rmse = np.sqrt(mse)\n",
        "r_squared = r2_score(np.exp(y_test), np.exp(predictions))\n",
        "performance[name] = mse\n",
        "print(f\"{name} mean squared error: {mse}\", f\"root mean squared error: {rmse}\", f\"R^2: {r_squared}\")"
      ]
    },
    {
      "cell_type": "code",
      "execution_count": null,
      "metadata": {
        "id": "m6jKGpqzAoE2"
      },
      "outputs": [],
      "source": [
        "# Table of Results\n",
        "performance = {}\n",
        "trained = {\n",
        "    'Ridge': grid_search_ridge.best_estimator_,\n",
        "    'Lasso': grid_search_lasso.best_estimator_,\n",
        "    'DecisionTree': grid_search_dt.best_estimator_,\n",
        "    'RandomForest': grid_search_rf.best_estimator_,\n",
        "    'XGBoost': grid_search_xgb.best_estimator_,\n",
        "    'Dummy_mean': dummy_reg_mean\n",
        "}\n",
        "\n",
        "# Evaluate performance for each model in 'trained'\n",
        "for name, model in trained.items():\n",
        "    predictions = model.predict(X_test)\n",
        "    mse = mean_squared_error(np.exp(y_test), np.exp(predictions))\n",
        "    rmse = np.sqrt(mse)\n",
        "    r_squared = r2_score(np.exp(y_test), np.exp(predictions))\n",
        "    performance[name] = {'MSE': mse, 'RMSE': rmse, 'R^2': r_squared}\n",
        "    print(f\"{name} mean squared error: {mse}\", f\"root mean squared error: {rmse}\", f\"R^2: {r_squared}\")\n",
        "\n",
        "# Evaluate performance for Linear Regression model separately\n",
        "model = grid_search_linreg.best_estimator_\n",
        "name = \"Linear Regression\"\n",
        "X_test_transform = pca.transform(X_test)\n",
        "predictions = model.predict(X_test_transform)\n",
        "mse = mean_squared_error(np.exp(y_test), np.exp(predictions))\n",
        "rmse = np.sqrt(mse)\n",
        "r_squared = r2_score(np.exp(y_test), np.exp(predictions))\n",
        "performance[name] = {'MSE': mse, 'RMSE': rmse, 'R^2': r_squared}\n",
        "print(f\"{name} mean squared error: {mse}\", f\"root mean squared error: {rmse}\", f\"R^2: {r_squared}\")\n",
        "\n",
        "# Convert the performance dictionary to a DataFrame and display it\n",
        "performance_df = pd.DataFrame(performance).T\n",
        "print(performance_df)"
      ]
    },
    {
      "cell_type": "code",
      "execution_count": null,
      "metadata": {
        "id": "EfynbX45lEEm"
      },
      "outputs": [],
      "source": [
        "# Plotting MSE\n",
        "plt.figure(figsize=(10, 5))\n",
        "plt.bar(performance_df.index, performance_df['MSE'], color='skyblue')\n",
        "plt.xlabel('Model')\n",
        "plt.ylabel('Mean Squared Error (MSE)')\n",
        "plt.title('Mean Squared Error (MSE) by Model')\n",
        "plt.xticks(rotation=45, ha='right')\n",
        "plt.tight_layout()\n",
        "plt.show()"
      ]
    },
    {
      "cell_type": "code",
      "execution_count": null,
      "metadata": {
        "id": "y3IffoCWBoZ5"
      },
      "outputs": [],
      "source": [
        "# Plotting R-squared\n",
        "plt.figure(figsize=(10, 5))\n",
        "plt.bar(performance_df.index, performance_df['R^2'], color='lightgreen')\n",
        "plt.xlabel('Model')\n",
        "plt.ylabel('R-squared (R^2)')\n",
        "plt.title('R-squared (R^2) by Model')\n",
        "plt.xticks(rotation=45, ha='right')\n",
        "plt.tight_layout()\n",
        "plt.show()"
      ]
    },
    {
      "cell_type": "code",
      "execution_count": null,
      "metadata": {
        "id": "ymbgidJ1lEEn"
      },
      "outputs": [],
      "source": [
        "importances = grid_search_rf.best_estimator_.feature_importances_\n",
        "feature_names = X_train.columns\n",
        "\n",
        "# Step 6: Plot the feature importances\n",
        "plt.figure(figsize=(10, 6))\n",
        "plt.barh(feature_names, importances, color='skyblue')\n",
        "plt.xlabel('Feature Importance')\n",
        "plt.ylabel('Feature')\n",
        "plt.title('Feature Importance in RandomForestRegressor')\n",
        "plt.show()\n"
      ]
    },
    {
      "cell_type": "code",
      "execution_count": null,
      "metadata": {
        "id": "13Y-TBNwYCJc"
      },
      "outputs": [],
      "source": [
        "importances = grid_search_rf.best_estimator_.feature_importances_\n",
        "feature_names = X_train.columns\n",
        "\n",
        "# Plot the feature importances\n",
        "plt.figure(figsize=(12, 8))\n",
        "\n",
        "colormap = plt.cm.viridis\n",
        "bars = plt.barh(feature_names, importances, color=colormap(importances))\n",
        "plt.xlabel('Feature Importance', fontsize=14)\n",
        "plt.ylabel('Feature', fontsize=14)\n",
        "plt.title('Feature Importance in RandomForestRegressor', fontsize=16)\n",
        "plt.show()"
      ]
    }
  ],
  "metadata": {
    "colab": {
      "provenance": []
    },
    "kernelspec": {
      "display_name": ".venv",
      "language": "python",
      "name": "python3"
    },
    "language_info": {
      "codemirror_mode": {
        "name": "ipython",
        "version": 3
      },
      "file_extension": ".py",
      "mimetype": "text/x-python",
      "name": "python",
      "nbconvert_exporter": "python",
      "pygments_lexer": "ipython3",
      "version": "3.10.12"
    }
  },
  "nbformat": 4,
  "nbformat_minor": 0
}
