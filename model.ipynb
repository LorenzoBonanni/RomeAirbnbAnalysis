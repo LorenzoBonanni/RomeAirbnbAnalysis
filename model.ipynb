{
  "cells": [
    {
      "cell_type": "code",
      "source": [
        "! pip install category_encoders"
      ],
      "metadata": {
        "colab": {
          "base_uri": "https://localhost:8080/"
        },
        "id": "EeT8nL65lW3V",
        "outputId": "2129e83c-cd3e-4e45-b3c2-03db86f09724"
      },
      "execution_count": 4,
      "outputs": [
        {
          "output_type": "stream",
          "name": "stdout",
          "text": [
            "Requirement already satisfied: category_encoders in /usr/local/lib/python3.10/dist-packages (2.6.3)\n",
            "Requirement already satisfied: numpy>=1.14.0 in /usr/local/lib/python3.10/dist-packages (from category_encoders) (1.25.2)\n",
            "Requirement already satisfied: scikit-learn>=0.20.0 in /usr/local/lib/python3.10/dist-packages (from category_encoders) (1.2.2)\n",
            "Requirement already satisfied: scipy>=1.0.0 in /usr/local/lib/python3.10/dist-packages (from category_encoders) (1.11.4)\n",
            "Requirement already satisfied: statsmodels>=0.9.0 in /usr/local/lib/python3.10/dist-packages (from category_encoders) (0.14.2)\n",
            "Requirement already satisfied: pandas>=1.0.5 in /usr/local/lib/python3.10/dist-packages (from category_encoders) (2.0.3)\n",
            "Requirement already satisfied: patsy>=0.5.1 in /usr/local/lib/python3.10/dist-packages (from category_encoders) (0.5.6)\n",
            "Requirement already satisfied: python-dateutil>=2.8.2 in /usr/local/lib/python3.10/dist-packages (from pandas>=1.0.5->category_encoders) (2.8.2)\n",
            "Requirement already satisfied: pytz>=2020.1 in /usr/local/lib/python3.10/dist-packages (from pandas>=1.0.5->category_encoders) (2023.4)\n",
            "Requirement already satisfied: tzdata>=2022.1 in /usr/local/lib/python3.10/dist-packages (from pandas>=1.0.5->category_encoders) (2024.1)\n",
            "Requirement already satisfied: six in /usr/local/lib/python3.10/dist-packages (from patsy>=0.5.1->category_encoders) (1.16.0)\n",
            "Requirement already satisfied: joblib>=1.1.1 in /usr/local/lib/python3.10/dist-packages (from scikit-learn>=0.20.0->category_encoders) (1.4.2)\n",
            "Requirement already satisfied: threadpoolctl>=2.0.0 in /usr/local/lib/python3.10/dist-packages (from scikit-learn>=0.20.0->category_encoders) (3.5.0)\n",
            "Requirement already satisfied: packaging>=21.3 in /usr/local/lib/python3.10/dist-packages (from statsmodels>=0.9.0->category_encoders) (24.0)\n"
          ]
        }
      ]
    },
    {
      "cell_type": "code",
      "execution_count": 5,
      "metadata": {
        "id": "8TWOpl-fqNcP"
      },
      "outputs": [],
      "source": [
        "import numpy as np\n",
        "import pandas as pd\n",
        "import matplotlib.pyplot as plt\n",
        "import xgboost as xgb\n",
        "from sklearn.model_selection import train_test_split, GridSearchCV, KFold\n",
        "from sklearn.preprocessing import StandardScaler\n",
        "from sklearn.decomposition import PCA\n",
        "from sklearn.linear_model import LinearRegression, Ridge, Lasso\n",
        "from sklearn.metrics import make_scorer, mean_squared_error, r2_score\n",
        "from sklearn.ensemble import RandomForestRegressor\n",
        "from sklearn.tree import DecisionTreeRegressor\n",
        "from category_encoders import BinaryEncoder\n",
        "from sklearn.dummy import DummyRegressor"
      ]
    },
    {
      "cell_type": "code",
      "execution_count": 6,
      "metadata": {
        "id": "_jSrGRFwqNcV"
      },
      "outputs": [],
      "source": [
        "df = pd.read_csv(filepath_or_buffer='rome_listings_aftereda.csv')"
      ]
    },
    {
      "cell_type": "code",
      "execution_count": 7,
      "metadata": {
        "colab": {
          "base_uri": "https://localhost:8080/"
        },
        "id": "U6q7m5CPlEEg",
        "outputId": "de679f92-3253-44db-de0c-396120086a76"
      },
      "outputs": [
        {
          "output_type": "execute_result",
          "data": {
            "text/plain": [
              "(22817, 10)"
            ]
          },
          "metadata": {},
          "execution_count": 7
        }
      ],
      "source": [
        "df.shape"
      ]
    },
    {
      "cell_type": "code",
      "execution_count": 8,
      "metadata": {
        "colab": {
          "base_uri": "https://localhost:8080/"
        },
        "id": "gHV5zaQjlEEg",
        "outputId": "0b1034f8-5fa3-461b-cb79-2330155c97b9"
      },
      "outputs": [
        {
          "output_type": "execute_result",
          "data": {
            "text/plain": [
              "Index(['neighbourhood_cleansed', 'longitude', 'property_type', 'room_type',\n",
              "       'accommodates', 'bathrooms', 'bedrooms', 'beds', 'bathrooms_shared',\n",
              "       'logprice'],\n",
              "      dtype='object')"
            ]
          },
          "metadata": {},
          "execution_count": 8
        }
      ],
      "source": [
        "df.columns"
      ]
    },
    {
      "cell_type": "code",
      "execution_count": 9,
      "metadata": {
        "id": "wCNosG4vqNcW"
      },
      "outputs": [],
      "source": [
        "## One Hot encoding for room_type\n",
        "df = pd.get_dummies(df, columns=['room_type'], prefix='room_type')\n",
        "df = pd.get_dummies(df, columns=['neighbourhood_cleansed'], prefix='neighbourhood')"
      ]
    },
    {
      "cell_type": "code",
      "execution_count": 10,
      "metadata": {
        "id": "jtLurcPoqNcc"
      },
      "outputs": [],
      "source": [
        "## convert boolean columns to int\n",
        "bool_cols = df.columns[df.dtypes == 'bool']\n",
        "df[bool_cols] = df[bool_cols].astype(int)"
      ]
    },
    {
      "cell_type": "code",
      "execution_count": 11,
      "metadata": {
        "id": "1fqDDvupqNcc"
      },
      "outputs": [],
      "source": [
        "binary_encoder = BinaryEncoder()\n",
        "binary_encoder.fit_transform(df['property_type'])\n",
        "# Create a DataFrame with the new columns\n",
        "new_columns = pd.DataFrame(binary_encoder.transform(df['property_type']), columns=binary_encoder.get_feature_names_out())\n",
        "\n",
        "# Concatenate the new columns with the original dataset\n",
        "df = pd.concat([df, new_columns], axis=1)\n",
        "df.drop(columns=['property_type'], inplace=True)"
      ]
    },
    {
      "cell_type": "code",
      "execution_count": 12,
      "metadata": {
        "id": "_EO01OgzqNcd"
      },
      "outputs": [],
      "source": [
        "price = np.log(df.pop('logprice'))"
      ]
    },
    {
      "cell_type": "code",
      "execution_count": 13,
      "metadata": {
        "colab": {
          "base_uri": "https://localhost:8080/"
        },
        "id": "Ag8RcUsiqNcj",
        "outputId": "5b38bc98-8e96-4c39-deff-c40ae6e8c666"
      },
      "outputs": [
        {
          "output_type": "execute_result",
          "data": {
            "text/plain": [
              "Index(['longitude', 'accommodates', 'bathrooms', 'bedrooms', 'beds',\n",
              "       'bathrooms_shared', 'room_type_Entire home/apt', 'room_type_Hotel room',\n",
              "       'room_type_Private room', 'room_type_Shared room',\n",
              "       'neighbourhood_I Centro Storico', 'neighbourhood_II Parioli/Nomentano',\n",
              "       'neighbourhood_III Monte Sacro', 'neighbourhood_IV Tiburtina',\n",
              "       'neighbourhood_IX Eur', 'neighbourhood_V Prenestino/Centocelle',\n",
              "       'neighbourhood_VI Roma delle Torri',\n",
              "       'neighbourhood_VII San Giovanni/Cinecittà',\n",
              "       'neighbourhood_VIII Appia Antica', 'neighbourhood_X Ostia/Acilia',\n",
              "       'neighbourhood_XI Arvalia/Portuense', 'neighbourhood_XII Monte Verde',\n",
              "       'neighbourhood_XIII Aurelia', 'neighbourhood_XIV Monte Mario',\n",
              "       'neighbourhood_XV Cassia/Flaminia', 'property_type_0',\n",
              "       'property_type_1', 'property_type_2', 'property_type_3',\n",
              "       'property_type_4', 'property_type_5'],\n",
              "      dtype='object')"
            ]
          },
          "metadata": {},
          "execution_count": 13
        }
      ],
      "source": [
        "df.columns"
      ]
    },
    {
      "cell_type": "code",
      "execution_count": 14,
      "metadata": {
        "id": "VwK34L6JqNcm"
      },
      "outputs": [],
      "source": [
        "X_train, X_test, y_train, y_test = train_test_split(df, price, test_size=0.3, random_state=42, shuffle=True)"
      ]
    },
    {
      "cell_type": "code",
      "execution_count": 15,
      "metadata": {
        "id": "FYCMDYzswb3U"
      },
      "outputs": [],
      "source": [
        "columns_to_standardize = ['accommodates', 'bathrooms', 'bedrooms', 'beds']\n",
        "scaler = StandardScaler()\n",
        "X_train[columns_to_standardize] = scaler.fit_transform(X_train[columns_to_standardize])\n",
        "X_test[columns_to_standardize] = scaler.transform(X_test[columns_to_standardize])"
      ]
    },
    {
      "cell_type": "code",
      "execution_count": 16,
      "metadata": {
        "colab": {
          "base_uri": "https://localhost:8080/",
          "height": 504
        },
        "id": "B2wPf_PaqNco",
        "outputId": "5d9897cb-3e74-41de-d3ce-cd06912ef84a"
      },
      "outputs": [
        {
          "output_type": "display_data",
          "data": {
            "text/plain": [
              "<Figure size 1000x500 with 1 Axes>"
            ],
            "image/png": "[encoded data removed]"
          },
          "metadata": {}
        },
        {
          "output_type": "stream",
          "name": "stdout",
          "text": [
            "Number of components chosen: 14\n"
          ]
        }
      ],
      "source": [
        "# Step 3: Perform PCA\n",
        "threshold = 0.95\n",
        "pca = PCA()\n",
        "pca.fit(X_train)\n",
        "\n",
        "# Step 4: Calculate explained variance\n",
        "explained_variance = pca.explained_variance_ratio_\n",
        "cumulative_variance = np.cumsum(explained_variance)\n",
        "\n",
        "# Step 5: Plot the cumulative explained variance\n",
        "plt.figure(figsize=(10, 5))\n",
        "plt.plot(range(1, len(cumulative_variance) + 1), cumulative_variance, marker='o', linestyle='--')\n",
        "plt.axhline(y=threshold, color='r', linestyle='-')  # Line for threshold\n",
        "plt.title('Cumulative Explained Variance')\n",
        "plt.xlabel('Number of Components')\n",
        "plt.ylabel('Cumulative Explained Variance')\n",
        "plt.grid()\n",
        "plt.show()\n",
        "\n",
        "# Step 6: Determine the number of components\n",
        "\n",
        "n_components = np.argmax(cumulative_variance >= threshold) + 1\n",
        "print(f\"Number of components chosen: {n_components}\")"
      ]
    },
    {
      "cell_type": "code",
      "execution_count": 23,
      "metadata": {
        "id": "ySit9LazqNcv"
      },
      "outputs": [],
      "source": [
        "pca = PCA(n_components=n_components)\n",
        "X_train_transform = pca.fit_transform(X_train)\n",
        "X_test_transform = pca.transform(X_test)"
      ]
    },
    {
      "cell_type": "code",
      "source": [
        "X_train_transform.shape"
      ],
      "metadata": {
        "colab": {
          "base_uri": "https://localhost:8080/"
        },
        "id": "ufyWxQ0_nS4S",
        "outputId": "6f636ab0-dcc5-4e32-ddc4-83b58b9b5685"
      },
      "execution_count": 26,
      "outputs": [
        {
          "output_type": "execute_result",
          "data": {
            "text/plain": [
              "(15971, 14)"
            ]
          },
          "metadata": {},
          "execution_count": 26
        }
      ]
    },
    {
      "cell_type": "code",
      "execution_count": 27,
      "metadata": {
        "colab": {
          "base_uri": "https://localhost:8080/"
        },
        "id": "JMR6OJF-qNcv",
        "outputId": "3443272d-d27c-4787-a4d3-64b3c7d3a441"
      },
      "outputs": [
        {
          "output_type": "stream",
          "name": "stdout",
          "text": [
            "Best mean squared error:  0.00864114878034789\n"
          ]
        }
      ],
      "source": [
        "# Linear Regression\n",
        "param_grid = {}\n",
        "scoring = make_scorer(mean_squared_error, greater_is_better=False)\n",
        "model = LinearRegression()\n",
        "grid_search_linreg = GridSearchCV(\n",
        "    estimator=model,\n",
        "    param_grid=param_grid,\n",
        "    scoring=scoring,\n",
        "    cv=KFold(5, random_state=2, shuffle=True),\n",
        "    n_jobs=-1\n",
        ")\n",
        "grid_search_linreg.fit(X_train_transform, y_train)\n",
        "# print(\"Best parameters found: \", grid_search_linreg.best_params_)\n",
        "print(\"Best mean squared error: \", -grid_search_linreg.best_score_)"
      ]
    },
    {
      "cell_type": "code",
      "execution_count": 28,
      "metadata": {
        "id": "HZYyqNtD7m7t",
        "colab": {
          "base_uri": "https://localhost:8080/"
        },
        "outputId": "7e51511b-4a36-403b-9805-303870975d4e"
      },
      "outputs": [
        {
          "output_type": "stream",
          "name": "stdout",
          "text": [
            "Best parameters found:  {'alpha': 2.009233002565046}\n",
            "Best mean squared error:  0.008380203343526666\n"
          ]
        }
      ],
      "source": [
        "# Ridge Regression\n",
        "alphas = np.logspace(-6, 6, 100, base=10)\n",
        "param_grid = {'alpha': alphas}\n",
        "scoring = make_scorer(mean_squared_error, greater_is_better=False)\n",
        "model = Ridge()\n",
        "grid_search_ridge = GridSearchCV(\n",
        "    estimator=model,\n",
        "    param_grid=param_grid,\n",
        "    scoring=scoring,\n",
        "    cv=KFold(5, random_state=2, shuffle=True),\n",
        "    n_jobs=-1\n",
        ")\n",
        "grid_search_ridge.fit(X_train, y_train)\n",
        "print(\"Best parameters found: \", grid_search_ridge.best_params_)\n",
        "print(\"Best mean squared error: \", -grid_search_ridge.best_score_)\n"
      ]
    },
    {
      "cell_type": "code",
      "execution_count": 30,
      "metadata": {
        "colab": {
          "base_uri": "https://localhost:8080/"
        },
        "id": "SMh5EbljBcMf",
        "outputId": "7c6d073e-865c-4ba9-9676-120bede85757"
      },
      "outputs": [
        {
          "output_type": "stream",
          "name": "stdout",
          "text": [
            "Best parameters found:  {'alpha': 1.2328467394420658e-05}\n",
            "Best mean squared error:  0.008380340322207639\n"
          ]
        }
      ],
      "source": [
        "# Lasso\n",
        "alphas = np.logspace(-6, 6, 100, base=10)\n",
        "param_grid = {'alpha': alphas}\n",
        "model = Lasso()\n",
        "grid_search_lasso = GridSearchCV(\n",
        "    estimator=model,\n",
        "    param_grid=param_grid,\n",
        "    scoring=scoring,\n",
        "    cv=KFold(5, random_state=2, shuffle=True),\n",
        "    n_jobs=-1\n",
        ")\n",
        "grid_search_lasso.fit(X_train, y_train)\n",
        "print(\"Best parameters found: \", grid_search_lasso.best_params_)\n",
        "print(\"Best mean squared error: \", -grid_search_lasso.best_score_)"
      ]
    },
    {
      "cell_type": "code",
      "execution_count": 31,
      "metadata": {
        "colab": {
          "base_uri": "https://localhost:8080/"
        },
        "id": "kvkIk6-xlEEl",
        "outputId": "c4eb14ea-4273-4e94-9d60-72839bacc351"
      },
      "outputs": [
        {
          "output_type": "stream",
          "name": "stdout",
          "text": [
            "Fitting 5 folds for each of 2430 candidates, totalling 12150 fits\n",
            "Best parameters found:  {'ccp_alpha': 0.0, 'max_depth': 10, 'max_features': None, 'min_impurity_decrease': 0.0, 'min_samples_leaf': 4, 'min_samples_split': 10, 'random_state': 2, 'splitter': 'random'}\n",
            "Best mean squared error:  0.008373699520590744\n"
          ]
        }
      ],
      "source": [
        "# Decision Tree\n",
        "param_grid = param_grid = {\n",
        "    'splitter': ['best', 'random'],\n",
        "    'max_depth': [None, 5, 10, 15, 20],\n",
        "    'min_samples_split': [2, 5, 10],\n",
        "    'min_samples_leaf': [1, 2, 4],\n",
        "    'max_features': [None, 'sqrt', 'log2'],\n",
        "    'min_impurity_decrease': [0.0, 0.1, 0.2],\n",
        "    'ccp_alpha': [0.0, 0.1, 0.2],\n",
        "    'random_state': [2]  # Adjust this according to your needs\n",
        "}\n",
        "model = DecisionTreeRegressor()\n",
        "grid_search_dt = GridSearchCV(\n",
        "    estimator=model,\n",
        "    param_grid=param_grid,\n",
        "    scoring=scoring,\n",
        "    cv=KFold(5, random_state=2, shuffle=True),\n",
        "    n_jobs=-1,\n",
        "    verbose=1\n",
        ")\n",
        "grid_search_dt.fit(X_train, y_train)\n",
        "print(\"Best parameters found: \", grid_search_dt.best_params_)\n",
        "print(\"Best mean squared error: \", -grid_search_dt.best_score_)"
      ]
    },
    {
      "cell_type": "code",
      "execution_count": null,
      "metadata": {
        "id": "O0Ac2J6TFRk2",
        "colab": {
          "base_uri": "https://localhost:8080/"
        },
        "outputId": "391112df-8922-4ece-afac-56478e64ab7e"
      },
      "outputs": [
        {
          "output_type": "stream",
          "name": "stdout",
          "text": [
            "Fitting 5 folds for each of 648 candidates, totalling 3240 fits\n"
          ]
        }
      ],
      "source": [
        "# Random Forest\n",
        "param_grid = param_grid = {\n",
        "    'n_estimators': [100, 200, 300],\n",
        "    'max_features': ['auto', 'sqrt', 'log2'],\n",
        "    'max_depth': [10, 20, 30, None],\n",
        "    'min_samples_split': [2, 5, 10],\n",
        "    'min_samples_leaf': [1, 2, 4],\n",
        "    'bootstrap': [True, False]\n",
        "}\n",
        "model = RandomForestRegressor()\n",
        "grid_search_rf = GridSearchCV(\n",
        "    estimator=model,\n",
        "    param_grid=param_grid,\n",
        "    scoring=scoring,\n",
        "    cv=KFold(5, random_state=2, shuffle=True),\n",
        "    n_jobs=-1,\n",
        "    verbose=1\n",
        ")\n",
        "grid_search_rf.fit(X_train, y_train)\n",
        "print(\"Best parameters found: \", grid_search_rf.best_params_)\n",
        "print(\"Best mean squared error: \", -grid_search_rf.best_score_)"
      ]
    },
    {
      "cell_type": "code",
      "execution_count": null,
      "metadata": {
        "id": "GYHbeoxylEEl"
      },
      "outputs": [],
      "source": [
        "# XGBoost\n",
        "param_grid = param_grid = {\n",
        "    'n_estimators': [100, 200, 300],\n",
        "    'learning_rate': [0.01, 0.1, 0.2],\n",
        "}\n",
        "model = xgb.XGBRegressor(random_state=2)\n",
        "grid_search_xgb = GridSearchCV(\n",
        "    estimator=model,\n",
        "    param_grid=param_grid,\n",
        "    scoring=scoring,\n",
        "    cv=KFold(5, random_state=2, shuffle=True),\n",
        "    n_jobs=-1\n",
        ")\n",
        "grid_search_xgb.fit(X_train, y_train)\n",
        "print(\"Best parameters found: \", grid_search_xgb.best_params_)\n",
        "print(\"Best mean squared error: \", -grid_search_xgb.best_score_)"
      ]
    },
    {
      "cell_type": "code",
      "execution_count": null,
      "metadata": {
        "id": "ENUw_s76lEEm"
      },
      "outputs": [],
      "source": [
        "dummy_reg_mean = DummyRegressor(strategy='mean')\n",
        "dummy_reg_mean.fit(X_train, y_train)"
      ]
    },
    {
      "cell_type": "code",
      "execution_count": null,
      "metadata": {
        "id": "kIBoo4KolEEm"
      },
      "outputs": [],
      "source": [
        "# Evaluate the best model\n",
        "performance = {}\n",
        "trained = {\n",
        "    'Ridge': grid_search_ridge.best_estimator_,\n",
        "    'Lasso': grid_search_lasso.best_estimator_,\n",
        "    'DecisionTree': grid_search_dt.best_estimator_,\n",
        "    'RandomForest': grid_search_rf.best_estimator_,\n",
        "    'XGBoost': grid_search_xgb.best_estimator_,\n",
        "    'Dummy_mean': dummy_reg_mean\n",
        "}\n",
        "for name, model in trained.items():\n",
        "    predictions = model.predict(X_test)\n",
        "    mse = mean_squared_error(np.exp(y_test), np.exp(predictions))\n",
        "    rmse = np.sqrt(mse)\n",
        "    r_squared = r2_score(np.exp(y_test), np.exp(predictions))\n",
        "    performance[name] = mse\n",
        "    print(f\"{name} mean squared error: {mse}\", f\"root mean squared error: {rmse}\", f\"R^2: {r_squared}\")"
      ]
    },
    {
      "cell_type": "code",
      "execution_count": null,
      "metadata": {
        "id": "yKCG2kYdlEEm"
      },
      "outputs": [],
      "source": [
        "model = grid_search_linreg.best_estimator_\n",
        "name = \"Linear Regression\"\n",
        "X_test_transform = pca.transform(X_test)\n",
        "predictions = model.predict(X_test_transform)\n",
        "mse = mean_squared_error(np.exp(y_test), np.exp(predictions))\n",
        "rmse = np.sqrt(mse)\n",
        "r_squared = r2_score(np.exp(y_test), np.exp(predictions))\n",
        "performance[name] = mse\n",
        "print(f\"{name} mean squared error: {mse}\", f\"root mean squared error: {rmse}\", f\"R^2: {r_squared}\")"
      ]
    },
    {
      "cell_type": "code",
      "execution_count": null,
      "metadata": {
        "id": "EfynbX45lEEm"
      },
      "outputs": [],
      "source": [
        "pd.Series(performance).plot(kind='bar')"
      ]
    },
    {
      "cell_type": "code",
      "execution_count": null,
      "metadata": {
        "id": "ymbgidJ1lEEn"
      },
      "outputs": [],
      "source": [
        "importances = grid_search_rf.best_estimator_.feature_importances_\n",
        "feature_names = X_train.columns\n",
        "\n",
        "# Step 6: Plot the feature importances\n",
        "plt.figure(figsize=(10, 6))\n",
        "plt.barh(feature_names, importances, color='skyblue')\n",
        "plt.xlabel('Feature Importance')\n",
        "plt.ylabel('Feature')\n",
        "plt.title('Feature Importance in RandomForestRegressor')\n",
        "plt.show()\n"
      ]
    }
  ],
  "metadata": {
    "colab": {
      "provenance": []
    },
    "kernelspec": {
      "display_name": ".venv",
      "language": "python",
      "name": "python3"
    },
    "language_info": {
      "codemirror_mode": {
        "name": "ipython",
        "version": 3
      },
      "file_extension": ".py",
      "mimetype": "text/x-python",
      "name": "python",
      "nbconvert_exporter": "python",
      "pygments_lexer": "ipython3",
      "version": "3.10.11"
    }
  },
  "nbformat": 4,
  "nbformat_minor": 0
}