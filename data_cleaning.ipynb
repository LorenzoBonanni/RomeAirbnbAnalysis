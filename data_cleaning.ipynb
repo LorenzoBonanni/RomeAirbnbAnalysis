{
 "cells": [
  {
   "cell_type": "code",
   "execution_count": null,
   "metadata": {},
   "outputs": [],
   "source": [
    "import pandas as pd\n",
    "import numpy as np\n",
    "import matplotlib.pyplot as plt\n",
    "import seaborn as sns"
   ]
  },
  {
   "cell_type": "code",
   "execution_count": null,
   "metadata": {},
   "outputs": [],
   "source": [
    "df = pd.read_csv(filepath_or_buffer='rome_listing.csv')"
   ]
  },
  {
   "cell_type": "code",
   "execution_count": null,
   "metadata": {},
   "outputs": [],
   "source": [
    "df"
   ]
  },
  {
   "cell_type": "code",
   "execution_count": null,
   "metadata": {},
   "outputs": [],
   "source": [
    "df.columns"
   ]
  },
  {
   "cell_type": "code",
   "execution_count": null,
   "metadata": {},
   "outputs": [],
   "source": [
    "# we can drop columns that are not useful for our analysis\n",
    "columns_to_drop = [\n",
    "    \"id\", \"scrape_id\", \"last_scraped\", \"source\", \"name\", \"picture_url\",\n",
    "    \"neighborhood_overview\", \"picture_url\", \"host_name\", \"host_location\",\n",
    "    \"host_about\", \"host_thumbnail_url\", \"host_picture_url\",\n",
    "    \"host_neighbourhood\", \"host_listings_count\", \"host_total_listings_count\",\n",
    "    \"host_verifications\", \"host_has_profile_pic\", \"host_identity_verified\",\n",
    "    \"host_url\", \"host_since\", 'host_response_time', 'host_response_rate',\n",
    "    'host_acceptance_rate', \"neighbourhood_group_cleansed\", \"neighbourhood\",\n",
    "    'minimum_nights', 'maximum_nights', 'minimum_minimum_nights',\n",
    "    'maximum_minimum_nights', 'minimum_maximum_nights',\n",
    "    'maximum_maximum_nights', 'minimum_nights_avg_ntm',\n",
    "    'maximum_nights_avg_ntm', 'calendar_updated', 'has_availability',\n",
    "    'availability_30', 'availability_60', 'availability_90',\n",
    "    'availability_365', 'calendar_last_scraped', 'first_review',\n",
    "    'last_review', 'instant_bookable',\n",
    "    'calculated_host_listings_count',\n",
    "    'calculated_host_listings_count_entire_homes',\n",
    "    'calculated_host_listings_count_private_rooms',\n",
    "    'calculated_host_listings_count_shared_rooms', 'host_id', \"amenities\", \"description\", 'listing_url'\n",
    "]\n",
    "\n",
    "df.drop(labels=columns_to_drop, axis=1, inplace=True)"
   ]
  },
  {
   "cell_type": "code",
   "execution_count": null,
   "metadata": {},
   "outputs": [],
   "source": [
    "df.head()"
   ]
  },
  {
   "cell_type": "code",
   "execution_count": null,
   "metadata": {},
   "outputs": [],
   "source": [
    "df.columns"
   ]
  },
  {
   "cell_type": "code",
   "execution_count": null,
   "metadata": {},
   "outputs": [],
   "source": [
    "df.price = df.price.str.replace(pat='$', repl='').str.replace(pat=',', repl='').astype(dtype=float)"
   ]
  },
  {
   "cell_type": "code",
   "execution_count": null,
   "metadata": {},
   "outputs": [],
   "source": [
    "# Does License have an impact on the price?\n",
    "\n",
    "df_l = df[[\"license\", \"price\"]].copy()\n",
    "df_l[\"license\"] = df_l[\"license\"].isna()\n",
    "df_l = df_l[~df_l[\"price\"].isna()]\n",
    "\n",
    "correlation = df_l[\"license\"].corr(df_l[\"price\"])\n",
    "sns.heatmap(df_l[[\"license\", \"price\"]].corr(), annot=True, cmap=\"coolwarm\")\n",
    "plt.title(f\"Correlation between License and Price: {correlation:.2f}\")\n",
    "plt.show()\n",
    "\n",
    "sns.scatterplot(data=df_l, x='license', y='price')\n",
    "\n",
    "# remove outliers\n",
    "df_l = df_l[df_l[\"price\"] < 30000]\n",
    "sns.scatterplot(data=df_l, x='license', y='price')\n",
    "\n",
    "plt.savefig(\"license_price.png\")"
   ]
  },
  {
   "cell_type": "code",
   "execution_count": null,
   "metadata": {},
   "outputs": [],
   "source": [
    "# Import necessary libraries\n",
    "import pandas as pd\n",
    "import matplotlib.pyplot as plt\n",
    "import seaborn as sns\n",
    "\n",
    "# Display basic information about the dataset\n",
    "print(df.info())\n",
    "\n",
    "# Summary statistics\n",
    "print(df.describe())\n",
    "\n",
    "# Check for missing values\n",
    "print(df.isnull().sum())"
   ]
  },
  {
   "cell_type": "code",
   "execution_count": null,
   "metadata": {},
   "outputs": [],
   "source": [
    "# drop rows with missing values in the price column\n",
    "df = df.dropna(subset=['price'])\n",
    "# remove license column\n",
    "df.drop(columns=['license'], inplace=True)"
   ]
  },
  {
   "cell_type": "code",
   "execution_count": null,
   "metadata": {},
   "outputs": [],
   "source": [
    "# We only care if the bathroom is shared or not\n",
    "df[\"bathrooms_shared\"] = df[\"bathrooms_text\"].str.contains(\"shared\", case=False)\n",
    "df[\"bathrooms_shared\"] = df[\"bathrooms_shared\"].astype(bool)\n",
    "# drop the original column\n",
    "df.drop(columns=['bathrooms_text'], inplace=True)\n",
    "\n",
    "# convert the host_is_superhost column to a boolean\n",
    "df[\"host_is_superhost\"] = df[\"host_is_superhost\"].str.contains(\"t\", case=False)\n",
    "df[\"host_is_superhost\"] = df[\"host_is_superhost\"].astype(bool)"
   ]
  },
  {
   "cell_type": "code",
   "execution_count": null,
   "metadata": {},
   "outputs": [],
   "source": []
  },
  {
   "cell_type": "code",
   "execution_count": null,
   "metadata": {},
   "outputs": [],
   "source": []
  },
  {
   "cell_type": "code",
   "execution_count": null,
   "metadata": {},
   "outputs": [],
   "source": []
  },
  {
   "cell_type": "code",
   "execution_count": null,
   "metadata": {},
   "outputs": [],
   "source": [
    "# TODO exploratory data analysis\n",
    "# TODO feature selection / engineering\n",
    "# TODO model selection"
   ]
  },
  {
   "cell_type": "code",
   "execution_count": null,
   "metadata": {},
   "outputs": [],
   "source": [
    "# # Create a set of all amenities\n",
    "# df[\"amenities\"] = df[\"amenities\"].str.replace(pat='[{}\"]', repl='').str.replace(pat='[\",]', repl=' ').str.strip('[]').str.replace('\"', '')\n",
    "# amenities = set()\n",
    "# for row in df[\"amenities\"]:\n",
    "#     elements = row.split(',')\n",
    "#     print(elements)\n",
    "#     amenities.update(elements)\n",
    "\n",
    "# len(amenities)"
   ]
  },
  {
   "cell_type": "code",
   "execution_count": null,
   "metadata": {},
   "outputs": [],
   "source": [
    "# amenities = set([a.lower() if not 'wifi' in a.lower() else 'wifi' for a in amenities])\n",
    "# amenities = set([a.lower() if not 'parking' in a.lower() and not 'carport' in a.lower() else 'parking' for a in amenities])\n",
    "# amenities = set([a.lower() if not 'kitchen' in a.lower() else 'kitchen' for a in amenities])\n",
    "# amenities = set([a.lower() if not 'washer' in a.lower() else 'washer' for a in amenities])\n",
    "# amenities = set([a.lower() if not 'dryer' in a.lower() and not 'hair dryer' in a.lower() else 'dryer' for a in amenities])\n",
    "# amenities = set([a.lower() if not 'tv' in a.lower() else 'tv' for a in amenities])\n",
    "# amenities = set([a.lower() if not 'heating' in a.lower() else 'heating' for a in amenities])\n",
    "# amenities = set([a.lower() if not 'air conditioning' in a.lower() else 'air conditioning' for a in amenities])\n",
    "# amenities = set([a.lower() if not 'refrigerator' in a.lower() else 'refrigerator' for a in amenities])\n",
    "# amenities = set([a.lower() if not 'microwave' in a.lower() else 'microwave' for a in amenities])\n",
    "# amenities = set([a.lower() if not 'oven' in a.lower() else 'oven' for a in amenities])\n",
    "# amenities = set([a.lower() if not 'coffee maker' in a.lower() and not 'coffee machine' in a.lower() else 'coffee maker' for a in amenities])\n",
    "# amenities = set([a.lower() if not any (x in a.lower() for x in ['body soap', 'bagnoschiuma', 'saponi', 'nivea', 'detergenti mani', 'bagnoschiuma', 'shampoo', 'soap', 'sapone']) else 'soap' for a in amenities])\n",
    "# amenities = set([a.lower() if not 'sound system' in a.lower() else 'sound system' for a in amenities])\n",
    "# amenities = set([a.lower() if not 'stove' in a.lower() else 'stove' for a in amenities])\n",
    "# amenities = set([a.lower() if not 'air conditioning' in a.lower() and not 'airconditioning' in a.lower() and not 'ac - split type ductless system' in a.lower()  and not 'ceiling fan' in a.lower() else 'stove' for a in amenities])\n",
    "# amenities = set([a.lower() if not 'conditioner' in a.lower() else 'conditioner' for a in amenities])\n",
    "# amenities = set([a.lower() if not 'high chair' in a.lower() else 'high chair' for a in amenities])\n",
    "# amenities = set([a.lower() if not 'grill' in a.lower() else 'grill' for a in amenities])\n",
    "# amenities = set([a.lower() if not 'pool' in a.lower() else 'pool' for a in amenities])\n",
    "# amenities = set([a.lower() if not 'baby bath' in a.lower() else 'pool' for a in amenities])\n",
    "# amenities = set([a.lower() if not 'crib' in a.lower() else 'crib' for a in amenities])\n",
    "# amenities = set([a.lower() if not 'garden' in a.lower() else 'garden' for a in amenities])\n",
    "# amenities = set([a.lower() if not 'patio' in a.lower() else 'patio' for a in amenities])\n",
    "# amenities = set([a.lower() if not 'fireplace' in a.lower() else 'fireplace' for a in amenities])\n",
    "# amenities = set([a.lower() if not 'hangers' in a.lower() else 'hangers' for a in amenities])\n",
    "# amenities = set([a.lower() if not 'stereo' in a.lower() else 'stereo' for a in amenities])\n",
    "# amenities = set([a.lower() if not 'stereo' in a.lower() else 'stereo' for a in amenities])\n",
    "# amenities = set([a.lower() if not any (x in a.lower() for x in ['console', 'xbox', 'playstation', 'game', 'ps3']) else 'console' for a in amenities])\n",
    "# amenities = set([a.lower() if not 'housekeeping' in a.lower() else 'housekeeping' for a in amenities])\n",
    "# amenities = set([a.lower() if not 'gym' in a.lower() else 'gym' for a in amenities])\n",
    "# amenities = set([a.lower() if not 'breakfast' in a.lower() else 'breakfast' for a in amenities])\n",
    "# amenities = set([a.lower() if not 'baby monitor' in a.lower() else 'baby monitor' for a in amenities])\n",
    "# amenities = set([a.lower() if not 'books and toys' in a.lower() else 'books and toys' for a in amenities])\n",
    "# amenities = set([a.lower() if not 'window ac' in a.lower() else 'air conditioning' for a in amenities])\n",
    "# amenities = set([a.lower() if not 'view' in a.lower() else 'view' for a in amenities])\n",
    "# amenities = set([a.lower() if not 'exercise equipment' in a.lower() else 'exercise equipment' for a in amenities])\n",
    "# amenities = set([a.lower() if not 'hot tub' in a.lower() else 'hot tub' for a in amenities])"
   ]
  },
  {
   "cell_type": "code",
   "execution_count": null,
   "metadata": {},
   "outputs": [],
   "source": [
    "print(df.isnull().sum())"
   ]
  },
  {
   "cell_type": "code",
   "execution_count": null,
   "metadata": {},
   "outputs": [],
   "source": [
    "df = df.dropna()"
   ]
  },
  {
   "cell_type": "code",
   "execution_count": null,
   "metadata": {},
   "outputs": [],
   "source": [
    "df"
   ]
  },
  {
   "cell_type": "code",
   "execution_count": null,
   "metadata": {},
   "outputs": [],
   "source": [
    "df.to_csv(('rome_listings_cleaned.csv'), index=False)"
   ]
  },
  {
   "cell_type": "code",
   "execution_count": null,
   "metadata": {
    "vscode": {
     "languageId": "ruby"
    }
   },
   "outputs": [],
   "source": []
  }
 ],
 "metadata": {
  "kernelspec": {
   "display_name": "jupyter",
   "language": "python",
   "name": "python3"
  },
  "language_info": {
   "codemirror_mode": {
    "name": "ipython",
    "version": 3
   },
   "file_extension": ".py",
   "mimetype": "text/x-python",
   "name": "python",
   "nbconvert_exporter": "python",
   "pygments_lexer": "ipython3",
   "version": "3.10.12"
  }
 },
 "nbformat": 4,
 "nbformat_minor": 2
}
